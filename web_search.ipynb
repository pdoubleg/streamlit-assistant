{
 "cells": [
  {
   "cell_type": "code",
   "execution_count": 1,
   "metadata": {},
   "outputs": [],
   "source": [
    "import os\n",
    "from dotenv import load_dotenv\n",
    "load_dotenv()\n",
    "from metaphor_python import Metaphor\n",
    "import openai\n",
    "from IPython.display import Markdown, display\n",
    "\n",
    "openai.api_key = os.getenv(\"OPENAI_API_KEY\")\n",
    "metaphor = Metaphor(os.getenv(\"METAPHOR_API_KEY\"))"
   ]
  },
  {
   "cell_type": "code",
   "execution_count": 2,
   "metadata": {},
   "outputs": [],
   "source": [
    "def get_llm_response(system='You are a helpful assistant.', user = '', temperature = 1, model = 'gpt-3.5-turbo'):\n",
    "    completion = openai.chat.completions.create(\n",
    "        model=model,\n",
    "        temperature=temperature,\n",
    "        messages=[\n",
    "            {'role': 'system', 'content': system},\n",
    "            {'role': 'user', 'content': user},\n",
    "        ]\n",
    "    )\n",
    "    return completion.choices[0].message.content"
   ]
  },
  {
   "cell_type": "code",
   "execution_count": 3,
   "metadata": {},
   "outputs": [],
   "source": [
    "PROPERTY_TOPIC = 'Vintage Clark Kent figurine, possibly from Kenner 1986 \"Super Powers Collection.\"'\n",
    "STRUCTURE_TOPIC = 'Purchase roof shingles'"
   ]
  },
  {
   "cell_type": "code",
   "execution_count": 4,
   "metadata": {},
   "outputs": [
    {
     "name": "stdout",
     "output_type": "stream",
     "text": [
      "Vintage Clark Kent figurine\n",
      "Kenner 1986 Clark Kent figurine\n",
      "Super Powers Collection Clark Kent figurine\n"
     ]
    }
   ],
   "source": [
    "def create_keyword_query_generation_prompt(topic, n):\n",
    "    return f\"\"\"I'm writing a research report on {topic} and need help coming up with Google keyword search queries.\n",
    "Google keyword searches should just be a few words long. It should not be a complete sentence.\n",
    "Please generate a diverse list of {n} Google keyword search queries that would be useful for writing a research report on ${topic}. Do not add any formatting or numbering to the queries.\"\"\"\n",
    "\n",
    "print(get_llm_response(\n",
    "    system='The user will ask you to help generate some search queries. Respond with only the suggested queries in plain text with no extra formatting, each on it\\'s own line.',\n",
    "    user=create_keyword_query_generation_prompt(PROPERTY_TOPIC, 3),\n",
    "))\n"
   ]
  },
  {
   "cell_type": "code",
   "execution_count": 5,
   "metadata": {},
   "outputs": [],
   "source": [
    "def generate_search_queries(topic, n):\n",
    "    user_prompt = create_keyword_query_generation_prompt(topic, n)\n",
    "    completion = get_llm_response(\n",
    "        system='The user will ask you to help generate some search queries. Respond with only the suggested queries in plain text with no extra formatting, each on it\\'s own line.',\n",
    "        user=user_prompt,\n",
    "        temperature=1\n",
    "    )\n",
    "    queries = [s for s in completion.split('\\n') if s.strip()][:n]\n",
    "    return queries"
   ]
  },
  {
   "cell_type": "code",
   "execution_count": 6,
   "metadata": {},
   "outputs": [],
   "source": [
    "prop_queries = generate_search_queries(PROPERTY_TOPIC, 3)\n",
    "struct_queries = generate_search_queries(STRUCTURE_TOPIC, 3)"
   ]
  },
  {
   "cell_type": "code",
   "execution_count": 7,
   "metadata": {},
   "outputs": [
    {
     "name": "stdout",
     "output_type": "stream",
     "text": [
      "['vintage Clark Kent figurine', 'Kenner 1986 Clark Kent figurine', 'Super Powers Collection Clark Kent figurine']\n",
      "['purchase roof shingles', 'buy roof shingles', 'roof shingles for sale']\n"
     ]
    }
   ],
   "source": [
    "print(prop_queries)\n",
    "print(struct_queries)"
   ]
  },
  {
   "cell_type": "code",
   "execution_count": 8,
   "metadata": {},
   "outputs": [],
   "source": [
    "def get_search_results(queries, type, linksPerQuery=1):\n",
    "    results = []\n",
    "    for query in queries:\n",
    "        search_response = metaphor.search(query, type=type, num_results=linksPerQuery, use_autoprompt=False)\n",
    "        results.extend(search_response.results)\n",
    "    return results"
   ]
  },
  {
   "cell_type": "code",
   "execution_count": 13,
   "metadata": {},
   "outputs": [],
   "source": [
    "struct_links = get_search_results(struct_queries, 'neural')"
   ]
  },
  {
   "cell_type": "code",
   "execution_count": 10,
   "metadata": {},
   "outputs": [],
   "source": [
    "def display_base_models(base_models):\n",
    "    \"\"\"\n",
    "    Display the title, url, and published_date of each BaseModel object in a list.\n",
    "\n",
    "    Args:\n",
    "        base_models (List[BaseModel]): List of BaseModel objects.\n",
    "\n",
    "    \"\"\"\n",
    "    for model in base_models:\n",
    "        print(f\"Title: {model.title}\")\n",
    "        print(f\"URL: {model.url}\")\n",
    "        print(f\"Published Date: {model.published_date}\")"
   ]
  },
  {
   "cell_type": "code",
   "execution_count": 14,
   "metadata": {},
   "outputs": [
    {
     "name": "stdout",
     "output_type": "stream",
     "text": [
      "Title: Roofing Selection - American Roofing & Renovation\n",
      "URL: https://www.americanroofingandrenovation.com/roofing-selection\n",
      "Published Date: 2023-02-05\n",
      "Title: Discount Roofing Supplies – Smyrna, GA | Preferred Roofing Supply Supply\n",
      "URL: https://www.preferredroofingsupply.com/smyrna-ga\n",
      "Published Date: 2021-09-21\n",
      "Title: Roofing | Premium Business Directories | Free Directory Submission Website\n",
      "URL: https://www.blimey.us/roofing\n",
      "Published Date: 2023-01-01\n"
     ]
    }
   ],
   "source": [
    "display_base_models(struct_links)"
   ]
  },
  {
   "cell_type": "code",
   "execution_count": 15,
   "metadata": {},
   "outputs": [
    {
     "name": "stdout",
     "output_type": "stream",
     "text": [
      "Title: Roofing Selection - American Roofing & Renovation\n",
      "URL: https://www.americanroofingandrenovation.com/roofing-selection\n",
      "ID: S8nua4b2t1gi2P81QQJ81g\n",
      "Score: 0.16696617007255554\n",
      "Published Date: 2023-02-05\n",
      "Author: None\n",
      "Extract: None\n",
      "Title: Discount Roofing Supplies – Smyrna, GA | Preferred Roofing Supply Supply\n",
      "URL: https://www.preferredroofingsupply.com/smyrna-ga\n",
      "ID: Pp4IS-Mcs_g24O_NTllo9w\n",
      "Score: 0.15565849840641022\n",
      "Published Date: 2021-09-21\n",
      "Author: None\n",
      "Extract: None\n",
      "Title: Roofing | Premium Business Directories | Free Directory Submission Website\n",
      "URL: https://www.blimey.us/roofing\n",
      "ID: XNlXU9JJvs0uji4GwgeQLw\n",
      "Score: 0.18237528204917908\n",
      "Published Date: 2023-01-01\n",
      "Author: None\n",
      "Extract: None\n"
     ]
    }
   ],
   "source": [
    "for link in struct_links:\n",
    "    print(link)"
   ]
  },
  {
   "cell_type": "code",
   "execution_count": 11,
   "metadata": {},
   "outputs": [],
   "source": [
    "prop_links = get_search_results(prop_queries, 'keyword')"
   ]
  },
  {
   "cell_type": "code",
   "execution_count": 12,
   "metadata": {},
   "outputs": [
    {
     "name": "stdout",
     "output_type": "stream",
     "text": [
      "Title: Clark Kent Action Figure for sale - eBay\n",
      "URL: https://www.ebay.com/b/Clark-Kent-Action-Figure/246/bn_7023242372\n",
      "ID: 78ec10a3-cdaa-47c8-9d95-85f757098c63\n",
      "Score: None\n",
      "Published Date: None\n",
      "Author: None\n",
      "Extract: None\n"
     ]
    }
   ],
   "source": [
    "for link in prop_links:\n",
    "    print(link)"
   ]
  },
  {
   "cell_type": "code",
   "execution_count": 16,
   "metadata": {},
   "outputs": [],
   "source": [
    "from bs4 import BeautifulSoup\n",
    "import re\n",
    "\n",
    "def clean_html_content(content: str) -> str:\n",
    "    \"\"\"\n",
    "    Clean the HTML content using BeautifulSoup.\n",
    "\n",
    "    Args:\n",
    "        content (str): HTML content.\n",
    "\n",
    "    Returns:\n",
    "        str: Cleaned text content.\n",
    "    \"\"\"\n",
    "    soup = BeautifulSoup(content, \"html.parser\")\n",
    "\n",
    "    # Extract header and paragraph tags\n",
    "    header_tags = soup.find_all(re.compile(r\"^h\\d$\"))\n",
    "    paragraph_tags = soup.find_all(\"p\")\n",
    "\n",
    "    # Strip HTML tags and collect text content\n",
    "    stripped_content = \"\"\n",
    "    for tag in header_tags + paragraph_tags:\n",
    "        stripped_content += \" \" + tag.get_text().strip() + \" \"\n",
    "\n",
    "    return ' '.join(stripped_content.split())"
   ]
  },
  {
   "cell_type": "code",
   "execution_count": 17,
   "metadata": {},
   "outputs": [],
   "source": [
    "def get_page_contents(search_results):\n",
    "    contents_response = metaphor.get_contents(search_results)\n",
    "    return contents_response.contents"
   ]
  },
  {
   "cell_type": "code",
   "execution_count": 18,
   "metadata": {},
   "outputs": [],
   "source": [
    "struct_content = get_page_contents([link.id for link in struct_links])"
   ]
  },
  {
   "cell_type": "code",
   "execution_count": null,
   "metadata": {},
   "outputs": [],
   "source": []
  },
  {
   "cell_type": "code",
   "execution_count": 19,
   "metadata": {},
   "outputs": [
    {
     "name": "stdout",
     "output_type": "stream",
     "text": [
      "<div><div>\n",
      "<article>\n",
      "\t<div><div><p></p><h2>Roofing SuppliesSmyrna, GA</h2><p></p></div><div><div><p></p>\n",
      "\t</div><div><div><p></p><h2>TRUSTED ROOFING SUPPLY COMPANY</h2><p></p></div><div><p>Do you want to complete your roofing job efficiently and within budget? While it may seem like an impossible task, by choosing the best roofing supply company, having a seamless experience on your next project can actually be simple.  At Preferred Roofing Smyrna, Georgia, we understand roofing and siding projects aren't always expected. That's why we do everything we can to offer our customers the best prices on top brand roofing materials.</p></div></div></div><div><div><p>Whether you are a contractor, homeowner, builder, or local roofer, saving money is one of the most important factors when working on a construction project. Here are a few ways that Preferred Roofing Supply Smyrna helps our customers save money:</p></div><div><div><div><p></p><h2>01</h2><p></p></div>\n",
      "<div><p>We offer a price match guarantee, so you don't have to waste time shopping around for the best prices; you already know we match competitive prices on roofing supplies and materials.</p></div></div><div><div><p></p><h2>02</h2><p></p></div>\n",
      "<div><p>We pass along our savings to customers. Through the years, we have developed trusted relationships with our distributors. This enables us to stock a large inventory of roofing materials and supplies at low prices. Any savings we receive, we pass along to you.</p></div></div><div><div><p></p><h2>03</h2><p></p></div>\n",
      "<div><p>One-stop-shop for roofing materials and supplies. Time is money. By stocking roofing tools, siding, asphalt shingles, metal roofing materials, dumpsters, and more, you can find everything you need at Preferred Roofing Supply Smyrna, which means you aren't driving to various stores looking for materials. We truly are a one-stop-shop.</p></div></div><div><div><p></p><h2>04</h2><p></p></div>\n",
      "<div><p>Preferred Roofing Supply Smyrna provides a free estimate so you can budget accordingly.</p></div></div></div>\n",
      "<div><div><p>Whether you are a contractor, homeowner, builder, or local roofer, saving money is one of the most important factors when working on a construction project. Here are a few ways that Preferred Roofing Supply Smyrna helps our customers save money:</p></div><div><p>Choosing the best materials for your project is the best way to save money in the long run. Investing in quality tools and supplies preserves your investment. At Preferred Roofing Supply Smyrna, we have over 12 years of experience in the construction industry. Whether you need advice on what siding materials to select or what tool is best for the job, we can help. Our knowledge of Georgia construction codes and laws means we can be of even greater assistance to you. In addition, Preferred Roofing Supply Smyrna stocks large quantities of roofing supplies because we know emergencies happen. We don't want our customers to be caught off guard.</p></div><div><p>Our trusted advantage is part of what sets us apart from other roofing supply companies. More than just a roofing supply company, our roofing experts are available to help you find the best materials for your project or offer any needed advice, and help you stay within budget.We value our relationships with our suppliers, local roofers, homeowners, and contractors. Keeping your roofing project on time and budget is our goal. At Preferred Roofing Supply Smyrna, we take the extra steps to so you don’t have to.</p></div></div></div><div><div><div><p></p>\n",
      "\t</div><div><div><p></p><h2>Roofing Products</h2><p></p></div>\n",
      "<div><p>When you need the best roofing products at the best prices, guaranteed, turn to Preferred Roofing Supply Smyrna, Georgia. We carry\n"
     ]
    }
   ],
   "source": [
    "print(f\"{struct_content[1].extract}\")"
   ]
  },
  {
   "cell_type": "code",
   "execution_count": 23,
   "metadata": {},
   "outputs": [
    {
     "data": {
      "text/plain": [
       "DocumentContent(id='XNlXU9JJvs0uji4GwgeQLw', url='https://www.blimey.us/roofing', title='Roofing | Premium Business Directories | Free Directory Submission Website', extract='<div>\\n<section>\\n <header>\\n <div>\\n <p><a href=\"https://www.blimey.us/index.php?route=common/home\"></a></p>\\n </div>\\n </header>\\n</section>\\n<div>\\n <div>\\n \\n <p>\\n Show: \\n Sort By: \\n </p>\\n \\n <div> \\n <div>\\n <p>\\n \\uf1ba\\n \\n \\n \\n </p>\\n </div>\\n <nav>\\n <ul>\\n <li><h2> All American....</h2></li> \\n <li><i>\\uf0ac </i>Composition shingles are affordable, durable....</li>\\n \\n <li> <a href=\"https://www.blimey.us/detail/6602/all-american-roofing---shingle-roofing-johnson-county.html\"> VIEW BUSSINESS </a></li>\\n </ul>\\n </nav>\\n </div> \\n \\n <div> \\n <div>\\n <p>\\n \\uf1ba\\n \\n \\n \\n </p>\\n </div>\\n <nav>\\n <ul>\\n <li><h2> Are You Look....</h2></li> \\n <li><i>\\uf0ac </i>When wind, weather or simple time has made y....</li>\\n \\n <li> <a href=\"https://www.blimey.us/detail/7078/are-you-looking-for-roof-maintenance-in-plano-tx-contact-jl-moore-construction.html\"> VIEW BUSSINESS </a></li>\\n </ul>\\n </nav>\\n </div> \\n \\n <div> \\n <div>\\n <p>\\n \\uf1ba\\n \\n \\n \\n </p>\\n </div>\\n <nav>\\n <ul>\\n <li><h2> Century Roof....</h2></li> \\n <li><i>\\uf0ac </i>Century Roofing provide roofing repair servi....</li>\\n \\n <li> <a href=\"https://www.blimey.us/detail/9729/century-roofing-provide-roof-leak-repair-service-in-kansas-city-ks.html\"> VIEW BUSSINESS </a></li>\\n </ul>\\n </nav>\\n </div> \\n \\n <div> \\n <div>\\n <p>\\n \\uf1ba\\n \\n \\n \\n </p>\\n </div>\\n <nav>\\n <ul>\\n <li><h2> Commercial R....</h2></li> \\n <li><i>\\uf0ac </i>We offer efficient and effective commercial ....</li>\\n \\n <li> <a href=\"https://www.blimey.us/detail/7759/commercial-roof-maintenance-orlando-fl.html\"> VIEW BUSSINESS </a></li>\\n </ul>\\n </nav>\\n </div> \\n \\n <div> \\n <div>\\n <p>\\n \\uf1ba\\n \\n \\n \\n </p>\\n </div>\\n <nav>\\n <ul>\\n <li><h2> Commercial R....</h2></li> \\n <li><i>\\uf0ac </i>If you are planning a roof repair but don\\'t ....</li>\\n \\n <li> <a href=\"https://www.blimey.us/detail/5249/commercial-roof-restoration-specialists-madison-wi.html\"> VIEW BUSSINESS </a></li>\\n </ul>\\n </nav>\\n </div> \\n \\n <div> \\n <div>\\n <p>\\n \\uf1ba\\n \\n \\n \\n </p>\\n </div>\\n <nav>\\n <ul>\\n <li><h2> Commercial R....</h2></li> \\n <li><i>\\uf0ac </i>Advocate Construction provides reliable comm....</li>\\n \\n <li> <a href=\"https://www.blimey.us/detail/7108/commercial-roofing-contractors-littleton-co.html\"> VIEW BUSSINESS </a></li>\\n </ul>\\n </', author=None)"
      ]
     },
     "execution_count": 23,
     "metadata": {},
     "output_type": "execute_result"
    }
   ],
   "source": [
    "struct_content[2]"
   ]
  },
  {
   "cell_type": "code",
   "execution_count": 24,
   "metadata": {},
   "outputs": [],
   "source": [
    "def create_web_content_string(search_contents: list, char_limit: int = 30000) -> str:\n",
    "    \"\"\"\n",
    "    Synthesize a report from search contents.\n",
    "\n",
    "    Args:\n",
    "        search_contents (list): List of search contents.\n",
    "        char_limit (int, optional): Total character limit. Defaults to 30000.\n",
    "\n",
    "    Returns:\n",
    "        str: Synthesized report.\n",
    "    \"\"\"\n",
    "    total_chars = sum([len(clean_html_content(item.extract)) for item in search_contents])\n",
    "    inputData = ''\n",
    "\n",
    "    for item in search_contents:\n",
    "        cleaned_content = clean_html_content(item.extract)\n",
    "        item_chars = len(cleaned_content)\n",
    "        slice_ratio = item_chars / total_chars\n",
    "        slice_limit = int(char_limit * slice_ratio)\n",
    "        sliced_content = cleaned_content[:slice_limit]\n",
    "\n",
    "        inputData += f'--START ITEM--\\nURL: {item.url}\\nTITLE: {item.title}\\nCONTENT: {sliced_content}\\n--END ITEM--\\n'\n",
    "\n",
    "    return inputData\n",
    "    # return get_llm_response(\n",
    "    #     system='You are a helpful research assistant. Write a report according to the user\\'s instructions.',\n",
    "    #     user='Input Data:\\n' + inputData + f'Write a two paragraph research report about {topic} based on the provided information. Include as many sources as possible. Provide citations in the text using footnote notation ([#]). First provide the report, followed by a single \"References\" section that lists all the URLs used, in the format [#] .',\n",
    "    #     model='gpt-4' # want a better report? use gpt-4\n",
    "    # )"
   ]
  },
  {
   "cell_type": "code",
   "execution_count": 28,
   "metadata": {},
   "outputs": [],
   "source": [
    "prop_report = create_web_content_string(struct_content)"
   ]
  },
  {
   "cell_type": "code",
   "execution_count": 41,
   "metadata": {},
   "outputs": [
    {
     "data": {
      "text/markdown": [
       "URL: https://www.stanley12volt.com/\n",
       " TITLE: HOME | stanley12volt\n",
       " CONTENT:\n",
       " WATCH & LEARN Watch and Learn Learn more about your favorite products! Check out the Watch & Learn Section to see more videos Subscribe for Updates Congrats! You’re subscribed\n",
       "\n",
       "URL: https://www.woodcraft.com/categories/planes\n",
       " TITLE: Hand Planes for Sale from WoodRiver, Stanley, Veritas & More | Woodcraft\n",
       " CONTENT:\n",
       " Woodworking Hand Planes This Simple Yet Versatile Tool Deserves a Place In Your Workshop Hand Plane Resources & Videos Hand Planes are deceptively simple tools that when used properly can deliver speed and precision not possible with power tools or abrasives. Prior to the introduction of motorized power tools, hand planes bridged the gap between rough lumber and finished projects. A properly tuned hand plane can give you superior results when it comes to smoothing and other fine work. Learn more about this versatile tool through the articles and videos below, and be sure to check out our Woodcraft's Hand Plane Buying Guide! Top of Page\n",
       "\n",
       "URL: https://www.k-bid.com/auction/44829/item/203\n",
       " TITLE: Vintage Stanley Woodworking Planer No. 602\n",
       " CONTENT:\n",
       " Pick up is located at the back entrance of the warehouse."
      ],
      "text/plain": [
       "<IPython.core.display.Markdown object>"
      ]
     },
     "execution_count": 41,
     "metadata": {},
     "output_type": "execute_result"
    }
   ],
   "source": [
    "def format_for_markdown(text: str) -> str:\n",
    "    \"\"\"\n",
    "    Formats the given text for markdown.\n",
    "\n",
    "    Args:\n",
    "        text (str): The text to be formatted.\n",
    "\n",
    "    Returns:\n",
    "        str: The formatted text.\n",
    "    \"\"\"\n",
    "    # Split the text into items\n",
    "    items = text.split(\"--END ITEM--\")\n",
    "    \n",
    "    # Process each item\n",
    "    formatted_items = []\n",
    "    for item in items:\n",
    "        if item.strip() == \"\":\n",
    "            continue\n",
    "\n",
    "        # Remove START ITEM tag and split into lines\n",
    "        lines = item.replace(\"--START ITEM--\", \"\").strip().split(\" \")\n",
    "\n",
    "        # Initialize formatted item\n",
    "        formatted_item = \"\\n\\n\"\n",
    "\n",
    "        # Add each line with a newline at the end\n",
    "        for line in lines:\n",
    "            if \"URL:\" in line or \"TITLE:\" in line:\n",
    "                formatted_item += \"<br/>\" + line\n",
    "            elif \"CONTENT:\" in line:\n",
    "                formatted_item += \"<br/>\" + line + \"<br/>\"\n",
    "            else:\n",
    "                formatted_item += \" \" + line\n",
    "\n",
    "        formatted_items.append(formatted_item.strip())\n",
    "\n",
    "    return \"<br/><br/>\".join(formatted_items)\n",
    "\n",
    "# Your provided text\n",
    "text = \"\"\"\n",
    "--START ITEM-- URL: https://www.stanley12volt.com/ TITLE: HOME | stanley12volt CONTENT: WATCH & LEARN Watch and Learn Learn more about your favorite products! Check out the Watch & Learn Section to see more videos Subscribe for Updates Congrats! You’re subscribed --END ITEM-- --START ITEM-- URL: https://www.woodcraft.com/categories/planes TITLE: Hand Planes for Sale from WoodRiver, Stanley, Veritas & More | Woodcraft CONTENT: Woodworking Hand Planes This Simple Yet Versatile Tool Deserves a Place In Your Workshop Hand Plane Resources & Videos Hand Planes are deceptively simple tools that when used properly can deliver speed and precision not possible with power tools or abrasives. Prior to the introduction of motorized power tools, hand planes bridged the gap between rough lumber and finished projects. A properly tuned hand plane can give you superior results when it comes to smoothing and other fine work. Learn more about this versatile tool through the articles and videos below, and be sure to check out our Woodcraft's Hand Plane Buying Guide! Top of Page --END ITEM-- --START ITEM-- URL: https://www.k-bid.com/auction/44829/item/203 TITLE: Vintage Stanley Woodworking Planer No. 602 CONTENT: Pick up is located at the back entrance of the warehouse.\n",
    "\"\"\"\n",
    "\n",
    "# Format the text for markdown\n",
    "formatted_text = format_for_markdown(text)\n",
    "Markdown(f\"{formatted_text}\")"
   ]
  },
  {
   "cell_type": "code",
   "execution_count": 42,
   "metadata": {},
   "outputs": [
    {
     "data": {
      "text/markdown": [
       "URL:\n",
       " https://www.americanroofingandrenovation.com/roofing-selection\n",
       "TITLE: Roofing Selection - American Roofing &\n",
       " Renovation\n",
       "CONTENT:\n",
       " Roofing Material Selection Landmark BestBuy Series The CertainTeed Landmark series is a durable, beautiful color-blended line of shingles. The widest array of colors to suit any trim, stucco or siding color. Manufactured with self-sealing adhesive strips and a wide nailing zone, larger than competitors for ease of installation so your roofing job is complete in no time. Specifications & Technical Data CertainTeed XT25 The CertainTeed XT25 shingles are lightweight and easy to handle. Affordable with a beautiful design and many color choices, the CertainTeed XT25 Series might be just what you need for your home. Talk to your American Roofing & Renovation specialist to see which shingles are right for your home. If you are looking for Architectural Shingles with staying power, your search stops here. When it comes to weathering the elements, XT 25 is at the top of its class. Specifications & Technical Data CertainTeed Belmont® Luxury Shingles When it comes to replicating the authentic appearance of natural slate, Belmont® truly hits the mark. This luxury shingle’s layered construction and blended coloration – which includes rich hues and high contrast shadow lines – artfully emulate the classic slate roof look. Made from top grade roofing asphalt that is reinforced with a strong fiber glass base mat, Belmont is built to endure, and comes backed by a lifetime-limited manufacturer warranty. If you are looking for Luxury Shingles with staying power, your search stops here. When it comes to weathering the elements, Belmont is at the top of its class. Specifications & Technical Data Smith Built Metal Roofs Smith Built stands behind the products we sell. We differentiate ourselves by only selling roofing panels that are painted domestically and that we warranty for 40 years. We offer a variety of colors and sizes. If you would like to see a sample of any of our products, please contact American Roofing & Renovation and we’ll\n",
       "\n",
       "URL:\n",
       " https://www.preferredroofingsupply.com/smyrna-ga\n",
       "TITLE: Discount Roofing Supplies – Smyrna, GA | Preferred Roofing Supply\n",
       " Supply\n",
       "CONTENT:\n",
       " Roofing SuppliesSmyrna, GA TRUSTED ROOFING SUPPLY COMPANY 01 02 03 04 Roofing Products Do you want to complete your roofing job efficiently and within budget? While it may seem like an impossible task, by choosing the best roofing supply company, having a seamless experience on your next project can actually be simple. At Preferred Roofing Smyrna, Georgia, we understand roofing and siding projects aren't always expected. That's why we do everything we can to offer our customers the best prices on top brand roofing materials. Whether you are a contractor, homeowner, builder, or local roofer, saving money is one of the most important factors when working on a construction project. Here are a few ways that Preferred Roofing Supply Smyrna helps our customers save money: We offer a price match guarantee, so you don't have to waste time shopping around for the best prices; you already know we match competitive prices on roofing supplies and materials. We pass along our savings to customers. Through the years, we have developed trusted relationships with our distributors. This enables us to stock a large inventory of roofing materials and supplies at low prices. Any savings we receive, we pass along to you. One-stop-shop for roofing materials and supplies. Time is money. By stocking roofing tools, siding, asphalt shingles, metal roofing materials, dumpsters, and more, you can find everything you need at Preferred Roofing Supply Smyrna, which means you aren't driving to various stores looking for materials. We truly are a one-stop-shop. Preferred Roofing Supply Smyrna provides a free estimate so you can budget accordingly. Whether you are a contractor, homeowner, builder, or local roofer, saving money is one of the most important factors when working on a construction project. Here are a few ways that Preferred Roofing Supply Smyrna helps our customers save money: Choosing the best materials for your project is the best way to save money in the long run. Investing in quality tools and supplies preserves your investment. At Preferred Roofing Supply Smyrna, we have over 12 years of experience in the construction industry. Whether you need advice on what siding materials to select or what tool is best for the job, we can help. Our knowledge of Georgia construction codes and laws means we can be of even greater assistance to you. In addition, Preferred Roofing Supply Smyrna stocks large quantities of roofing supplies because we know emergencies happen. We don't want our customers to be caught off guard. Our trusted advantage is part of what sets us apart from other roofing supply companies. More than just a roofing supply company, our roofing experts are available to help you find the best materials for your project or offer any needed advice, and help you stay within budget.We value our relationships with our suppliers, local roofers, homeowners, and contractors. Keeping your roofing project on time and budget is our goal. At Preferred Roofing Supply Smyrna, we take the extra steps to so you don’t have to. When you need the best roofing products at the best prices, guaranteed, turn to Preferred Roofing Supply Smyrna, Georgia. We carry\n",
       "\n",
       "URL:\n",
       " https://www.blimey.us/roofing\n",
       "TITLE: Roofing | Premium Business Directories | Free Directory Submission\n",
       " Website\n",
       "CONTENT:\n",
       " All American.... Are You Look.... Century Roof.... Commercial R.... Commercial R.... Commercial R.... Show: Sort By:      "
      ],
      "text/plain": [
       "<IPython.core.display.Markdown object>"
      ]
     },
     "execution_count": 42,
     "metadata": {},
     "output_type": "execute_result"
    }
   ],
   "source": [
    "formatted_text = format_for_markdown(prop_report)\n",
    "Markdown(f\"{formatted_text}\")"
   ]
  },
  {
   "cell_type": "code",
   "execution_count": 29,
   "metadata": {},
   "outputs": [
    {
     "name": "stdout",
     "output_type": "stream",
     "text": [
      "--START ITEM--\n",
      "URL: https://www.americanroofingandrenovation.com/roofing-selection\n",
      "TITLE: Roofing Selection - American Roofing & Renovation\n",
      "CONTENT: Roofing Material Selection Landmark BestBuy Series The CertainTeed Landmark series is a durable, beautiful color-blended line of shingles. The widest array of colors to suit any trim, stucco or siding color. Manufactured with self-sealing adhesive strips and a wide nailing zone, larger than competitors for ease of installation so your roofing job is complete in no time. Specifications & Technical Data CertainTeed XT25 The CertainTeed XT25 shingles are lightweight and easy to handle. Affordable with a beautiful design and many color choices, the CertainTeed XT25 Series might be just what you need for your home. Talk to your American Roofing & Renovation specialist to see which shingles are right for your home. If you are looking for Architectural Shingles with staying power, your search stops here. When it comes to weathering the elements, XT 25 is at the top of its class. Specifications & Technical Data CertainTeed Belmont® Luxury Shingles When it comes to replicating the authentic appearance of natural slate, Belmont® truly hits the mark. This luxury shingle’s layered construction and blended coloration – which includes rich hues and high contrast shadow lines – artfully emulate the classic slate roof look. Made from top grade roofing asphalt that is reinforced with a strong fiber glass base mat, Belmont is built to endure, and comes backed by a lifetime-limited manufacturer warranty. If you are looking for Luxury Shingles with staying power, your search stops here. When it comes to weathering the elements, Belmont is at the top of its class. Specifications & Technical Data Smith Built Metal Roofs Smith Built stands behind the products we sell. We differentiate ourselves by only selling roofing panels that are painted domestically and that we warranty for 40 years. We offer a variety of colors and sizes. If you would like to see a sample of any of our products, please contact American Roofing & Renovation and we’ll\n",
      "--END ITEM--\n",
      "--START ITEM--\n",
      "URL: https://www.preferredroofingsupply.com/smyrna-ga\n",
      "TITLE: Discount Roofing Supplies – Smyrna, GA | Preferred Roofing Supply Supply\n",
      "CONTENT: Roofing SuppliesSmyrna, GA TRUSTED ROOFING SUPPLY COMPANY 01 02 03 04 Roofing Products Do you want to complete your roofing job efficiently and within budget? While it may seem like an impossible task, by choosing the best roofing supply company, having a seamless experience on your next project can actually be simple. At Preferred Roofing Smyrna, Georgia, we understand roofing and siding projects aren't always expected. That's why we do everything we can to offer our customers the best prices on top brand roofing materials. Whether you are a contractor, homeowner, builder, or local roofer, saving money is one of the most important factors when working on a construction project. Here are a few ways that Preferred Roofing Supply Smyrna helps our customers save money: We offer a price match guarantee, so you don't have to waste time shopping around for the best prices; you already know we match competitive prices on roofing supplies and materials. We pass along our savings to customers. Through the years, we have developed trusted relationships with our distributors. This enables us to stock a large inventory of roofing materials and supplies at low prices. Any savings we receive, we pass along to you. One-stop-shop for roofing materials and supplies. Time is money. By stocking roofing tools, siding, asphalt shingles, metal roofing materials, dumpsters, and more, you can find everything you need at Preferred Roofing Supply Smyrna, which means you aren't driving to various stores looking for materials. We truly are a one-stop-shop. Preferred Roofing Supply Smyrna provides a free estimate so you can budget accordingly. Whether you are a contractor, homeowner, builder, or local roofer, saving money is one of the most important factors when working on a construction project. Here are a few ways that Preferred Roofing Supply Smyrna helps our customers save money: Choosing the best materials for your project is the best way to save money in the long run. Investing in quality tools and supplies preserves your investment. At Preferred Roofing Supply Smyrna, we have over 12 years of experience in the construction industry. Whether you need advice on what siding materials to select or what tool is best for the job, we can help. Our knowledge of Georgia construction codes and laws means we can be of even greater assistance to you. In addition, Preferred Roofing Supply Smyrna stocks large quantities of roofing supplies because we know emergencies happen. We don't want our customers to be caught off guard. Our trusted advantage is part of what sets us apart from other roofing supply companies. More than just a roofing supply company, our roofing experts are available to help you find the best materials for your project or offer any needed advice, and help you stay within budget.We value our relationships with our suppliers, local roofers, homeowners, and contractors. Keeping your roofing project on time and budget is our goal. At Preferred Roofing Supply Smyrna, we take the extra steps to so you don’t have to. When you need the best roofing products at the best prices, guaranteed, turn to Preferred Roofing Supply Smyrna, Georgia. We carry\n",
      "--END ITEM--\n",
      "--START ITEM--\n",
      "URL: https://www.blimey.us/roofing\n",
      "TITLE: Roofing | Premium Business Directories | Free Directory Submission Website\n",
      "CONTENT: All American.... Are You Look.... Century Roof.... Commercial R.... Commercial R.... Commercial R.... Show: Sort By:      \n",
      "--END ITEM--\n",
      "\n"
     ]
    }
   ],
   "source": [
    "print(f\"{prop_report}\")"
   ]
  },
  {
   "cell_type": "code",
   "execution_count": 234,
   "metadata": {},
   "outputs": [],
   "source": [
    "def researcher(topic, n_queries, n_links_per_query):\n",
    "    search_queries = generate_search_queries(topic, n_queries)\n",
    "    print(search_queries)\n",
    "    search_results = get_search_results(search_queries, 'keyword', n_links_per_query)\n",
    "    search_contents = get_page_contents([link.id for link in search_results])\n",
    "    report = synthesize_report(topic, search_contents)\n",
    "    return report"
   ]
  },
  {
   "cell_type": "code",
   "execution_count": 235,
   "metadata": {},
   "outputs": [
    {
     "name": "stdout",
     "output_type": "stream",
     "text": [
      "['vintage Clark Kent figurine', 'Kenner 1986 Super Powers Collection']\n"
     ]
    }
   ],
   "source": [
    "research = researcher(PROPERTY_TOPIC, 2, 2)"
   ]
  },
  {
   "cell_type": "code",
   "execution_count": 236,
   "metadata": {},
   "outputs": [
    {
     "name": "stdout",
     "output_type": "stream",
     "text": [
      "The Vintage Clark Kent action figure is potentially part of the 'Super Powers Collection,' a line of action figures produced and made available by Kenner Products, an American toy company, between the years 1984-1986[^2^]. The collection was known to feature characters from DC Comics[^2^], indicating a strong possibility that characters such as Clark Kent, the civilian identity of Superman, would have been part of the product line. With the figures compounded of high quality plastic material[^2^], the popularity and collectibility of these figures have not diminished over the years. \n",
      "\n",
      "On online platforms such as eBay, various iconic action figure collectibles including the Clark Kent figure can be found[^1^]. Fans and collectors alike have taken to such platforms to buy, sell or trade these items. Therefore, it is fair to conclude that even after decades of their initial release, these Kenner action figures, inclusive of the Clark Kent model, continue to sustain appeal in today's market.\n",
      "\n",
      "References:\n",
      "\n",
      "[^1^]: https://www.ebay.com/b/Clark-Kent-Action-Figure/246/bn_7023242372\n",
      "[^2^]: https://en.wikipedia.org/wiki/Super_Powers_Collection\n"
     ]
    }
   ],
   "source": [
    "print(f\"{research}\")"
   ]
  },
  {
   "cell_type": "code",
   "execution_count": null,
   "metadata": {},
   "outputs": [],
   "source": []
  },
  {
   "cell_type": "code",
   "execution_count": 241,
   "metadata": {},
   "outputs": [],
   "source": [
    "response = metaphor.search(\"ceiling drywall\",\n",
    "    num_results=5,\n",
    "    type='keyword',\n",
    "    start_published_date=\"2023-06-12\"\n",
    ")"
   ]
  },
  {
   "cell_type": "code",
   "execution_count": 242,
   "metadata": {},
   "outputs": [
    {
     "name": "stdout",
     "output_type": "stream",
     "text": [
      "Title: How to Hang Drywall Like a Pro (DIY) - Family Handyman\n",
      "URL: https://www.familyhandyman.com/project/how-to-hang-drywall-like-a-pro/\n",
      "ID: cfbd3af3-52c9-4457-b897-30805375d47f\n",
      "Score: None\n",
      "Published Date: 2023-09-26T12:00:00.000Z\n",
      "Author: None\n",
      "Extract: None\n",
      "\n",
      "Title: USG Sheetrock Brand 1/2 in. x 4 ft. x 8 ft. UltraLight Drywall 14113411708\n",
      "URL: https://www.homedepot.com/p/USG-Sheetrock-Brand-1-2-in-x-4-ft-x-8-ft-UltraLight-Drywall-14113411708/202530243\n",
      "ID: 03c5ea62-5489-449d-bfef-d954951799d4\n",
      "Score: None\n",
      "Published Date: 2023-11-21T12:00:00.000Z\n",
      "Author: None\n",
      "Extract: None\n",
      "\n",
      "Title: Sheetrock vs. Drywall: What's the Difference? - Angie's List\n",
      "URL: https://www.angi.com/articles/sheetrock-vs-drywall.htm\n",
      "ID: ae79c4e8-94fc-4d88-954b-39fab16a13ce\n",
      "Score: None\n",
      "Published Date: 2023-10-11T12:00:00.000Z\n",
      "Author: None\n",
      "Extract: None\n",
      "\n",
      "Title: Drywall Ceiling Cost to Install or Replace (2023 Update) - HomeGuide\n",
      "URL: https://homeguide.com/costs/drywall-ceiling-cost\n",
      "ID: 346338ca-b367-468e-9daa-08a45dacd97c\n",
      "Score: None\n",
      "Published Date: 2023-10-06T12:00:00.000Z\n",
      "Author: None\n",
      "Extract: None\n",
      "\n",
      "Title: How to Replace Damaged Drywall in a Ceiling - The Spruce\n",
      "URL: https://www.thespruce.com/how-to-replace-ceiling-drywall-1821510\n",
      "ID: e335f783-e3b6-411f-8d86-f845cdef28da\n",
      "Score: None\n",
      "Published Date: 2023-09-28T12:00:00.000Z\n",
      "Author: None\n",
      "Extract: None\n"
     ]
    }
   ],
   "source": [
    "print(response)"
   ]
  },
  {
   "cell_type": "code",
   "execution_count": null,
   "metadata": {},
   "outputs": [],
   "source": []
  }
 ],
 "metadata": {
  "kernelspec": {
   "display_name": "streamlit-chatbot-app-py3.10",
   "language": "python",
   "name": "streamlit-chatbot-app-py3.10"
  },
  "language_info": {
   "codemirror_mode": {
    "name": "ipython",
    "version": 3
   },
   "file_extension": ".py",
   "mimetype": "text/x-python",
   "name": "python",
   "nbconvert_exporter": "python",
   "pygments_lexer": "ipython3",
   "version": "3.10.13"
  }
 },
 "nbformat": 4,
 "nbformat_minor": 2
}
