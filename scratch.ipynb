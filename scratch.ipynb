{
 "cells": [
  {
   "cell_type": "code",
   "execution_count": 42,
   "metadata": {},
   "outputs": [],
   "source": [
    "import os\n",
    "import requests\n",
    "import json\n",
    "import pandas as pd\n",
    "from pandas import json_normalize\n",
    "import time\n",
    "from dotenv import load_dotenv\n",
    "load_dotenv()\n",
    "import openai\n",
    "import whisper\n",
    "from langchain.chat_models import ChatOpenAI\n",
    "from langchain.prompts import PromptTemplate, ChatPromptTemplate\n",
    "from langchain.schema import Document\n",
    "from langchain.text_splitter import CharacterTextSplitter\n",
    "from langchain.chains.mapreduce import MapReduceChain\n",
    "from langchain.chains import (\n",
    "                StuffDocumentsChain,\n",
    "                LLMChain,\n",
    "                ReduceDocumentsChain,\n",
    "                MapReduceDocumentsChain,\n",
    "            )\n",
    "from langchain.text_splitter import RecursiveCharacterTextSplitter\n",
    "from langchain.chains.openai_functions import (\n",
    "    create_openai_fn_chain,\n",
    "    create_structured_output_chain,\n",
    "    create_openai_fn_runnable,\n",
    "    create_structured_output_runnable,\n",
    ")\n",
    "from pydantic import BaseModel, Field\n",
    "from typing import List, Optional\n",
    "from typing import Sequence\n",
    "from langchain.pydantic_v1 import BaseModel, Field\n",
    "from langchain.document_loaders import TextLoader\n",
    "from IPython.display import Markdown, display\n",
    "import warnings\n",
    "warnings.filterwarnings('ignore')"
   ]
  },
  {
   "cell_type": "code",
   "execution_count": 32,
   "metadata": {},
   "outputs": [],
   "source": [
    "# Define the URL for the audio endpoint\n",
    "base_url = \"https://www.courtlistener.com/api/rest/v3/audio/\"\n",
    "\n",
    "# Initialize a list to store all results\n",
    "all_results = []\n",
    "\n",
    "# Loop through all pages\n",
    "for page in range(11, 16):  # Adjust the range as needed\n",
    "    # Construct the URL for the current page\n",
    "    url = f\"{base_url}?page={page}\"\n",
    "\n",
    "    # Send a GET request to the API\n",
    "    response = requests.get(url)\n",
    "\n",
    "    # Parse the JSON response\n",
    "    data = json.loads(response.text)\n",
    "\n",
    "    # Add the results from this page to the list\n",
    "    all_results.extend(data[\"results\"])\n",
    "    \n",
    "    # Take a nap\n",
    "    time.sleep(1)\n",
    "\n",
    "# Convert the list of results to a pandas DataFrame\n",
    "df = pd.DataFrame.from_records(all_results)"
   ]
  },
  {
   "cell_type": "code",
   "execution_count": 33,
   "metadata": {},
   "outputs": [
    {
     "data": {
      "text/plain": [
       "(100, 24)"
      ]
     },
     "execution_count": 33,
     "metadata": {},
     "output_type": "execute_result"
    }
   ],
   "source": [
    "df.shape"
   ]
  },
  {
   "cell_type": "code",
   "execution_count": 34,
   "metadata": {},
   "outputs": [
    {
     "data": {
      "text/html": [
       "<div>\n",
       "<style scoped>\n",
       "    .dataframe tbody tr th:only-of-type {\n",
       "        vertical-align: middle;\n",
       "    }\n",
       "\n",
       "    .dataframe tbody tr th {\n",
       "        vertical-align: top;\n",
       "    }\n",
       "\n",
       "    .dataframe thead th {\n",
       "        text-align: right;\n",
       "    }\n",
       "</style>\n",
       "<table border=\"1\" class=\"dataframe\">\n",
       "  <thead>\n",
       "    <tr style=\"text-align: right;\">\n",
       "      <th></th>\n",
       "      <th>resource_uri</th>\n",
       "      <th>id</th>\n",
       "      <th>absolute_url</th>\n",
       "      <th>panel</th>\n",
       "      <th>docket</th>\n",
       "      <th>date_created</th>\n",
       "      <th>date_modified</th>\n",
       "      <th>source</th>\n",
       "      <th>case_name_short</th>\n",
       "      <th>case_name</th>\n",
       "      <th>case_name_full</th>\n",
       "      <th>judges</th>\n",
       "      <th>sha1</th>\n",
       "      <th>download_url</th>\n",
       "      <th>local_path_mp3</th>\n",
       "      <th>local_path_original_file</th>\n",
       "      <th>filepath_ia</th>\n",
       "      <th>ia_upload_failure_count</th>\n",
       "      <th>duration</th>\n",
       "      <th>processing_complete</th>\n",
       "      <th>date_blocked</th>\n",
       "      <th>blocked</th>\n",
       "      <th>stt_status</th>\n",
       "      <th>stt_google_response</th>\n",
       "    </tr>\n",
       "  </thead>\n",
       "  <tbody>\n",
       "    <tr>\n",
       "      <th>0</th>\n",
       "      <td>https://www.courtlistener.com/api/rest/v3/audi...</td>\n",
       "      <td>88896</td>\n",
       "      <td>/audio/88896/jb-v-kyrene-elementary-school-dis...</td>\n",
       "      <td>[https://www.courtlistener.com/api/rest/v3/peo...</td>\n",
       "      <td>https://www.courtlistener.com/api/rest/v3/dock...</td>\n",
       "      <td>2023-11-08T15:31:22.569351-08:00</td>\n",
       "      <td>2023-11-10T03:42:06.317242-08:00</td>\n",
       "      <td>C</td>\n",
       "      <td>J.B.</td>\n",
       "      <td>J.B. v. Kyrene Elementary School District No. 28</td>\n",
       "      <td></td>\n",
       "      <td>HAWKINS, COLLINS, Murphy</td>\n",
       "      <td>c3030aa5f90925db7c247f33c40a28b0e40850b3</td>\n",
       "      <td>https://cdn.ca9.uscourts.gov/datastore/media/2...</td>\n",
       "      <td>mp3/2023/11/08/j.b._v._kyrene_elementary_schoo...</td>\n",
       "      <td>mp3/2023/11/08/j.b._v._kyrene_elementary_schoo...</td>\n",
       "      <td>https://archive.org/download/gov.uscourts.ca9....</td>\n",
       "      <td>None</td>\n",
       "      <td>1656.0</td>\n",
       "      <td>True</td>\n",
       "      <td>None</td>\n",
       "      <td>False</td>\n",
       "      <td>0</td>\n",
       "      <td></td>\n",
       "    </tr>\n",
       "    <tr>\n",
       "      <th>1</th>\n",
       "      <td>https://www.courtlistener.com/api/rest/v3/audi...</td>\n",
       "      <td>88895</td>\n",
       "      <td>/audio/88895/netflix-v-babin/</td>\n",
       "      <td>[]</td>\n",
       "      <td>https://www.courtlistener.com/api/rest/v3/dock...</td>\n",
       "      <td>2023-11-08T15:31:07.678313-08:00</td>\n",
       "      <td>2023-11-10T03:38:11.396431-08:00</td>\n",
       "      <td>C</td>\n",
       "      <td>Netflix</td>\n",
       "      <td>Netflix v. Babin</td>\n",
       "      <td></td>\n",
       "      <td></td>\n",
       "      <td>428670ffa67a76a677d5c7acdd18b43cc14bd356</td>\n",
       "      <td>https://www.ca5.uscourts.gov/OralArgRecordings...</td>\n",
       "      <td>mp3/2023/11/08/netflix_v._babin_cl.mp3</td>\n",
       "      <td>mp3/2023/11/08/netflix_v._babin.mp3</td>\n",
       "      <td>https://archive.org/download/gov.uscourts.ca5....</td>\n",
       "      <td>None</td>\n",
       "      <td>2225.0</td>\n",
       "      <td>True</td>\n",
       "      <td>None</td>\n",
       "      <td>False</td>\n",
       "      <td>0</td>\n",
       "      <td></td>\n",
       "    </tr>\n",
       "    <tr>\n",
       "      <th>2</th>\n",
       "      <td>https://www.courtlistener.com/api/rest/v3/audi...</td>\n",
       "      <td>88894</td>\n",
       "      <td>/audio/88894/pointe-dallas-v-undwr-at-lloyds/</td>\n",
       "      <td>[]</td>\n",
       "      <td>https://www.courtlistener.com/api/rest/v3/dock...</td>\n",
       "      <td>2023-11-08T15:30:59.382170-08:00</td>\n",
       "      <td>2023-11-09T02:02:42.963400-08:00</td>\n",
       "      <td>C</td>\n",
       "      <td></td>\n",
       "      <td>Pointe Dallas v. Undwr at Lloyds</td>\n",
       "      <td></td>\n",
       "      <td></td>\n",
       "      <td>594379caefb252de019efed4988591d44a8d2acb</td>\n",
       "      <td>https://www.ca5.uscourts.gov/OralArgRecordings...</td>\n",
       "      <td>mp3/2023/11/08/pointe_dallas_v._undwr_at_lloyd...</td>\n",
       "      <td>mp3/2023/11/08/pointe_dallas_v._undwr_at_lloyd...</td>\n",
       "      <td>https://archive.org/download/gov.uscourts.ca5....</td>\n",
       "      <td>None</td>\n",
       "      <td>1448.0</td>\n",
       "      <td>True</td>\n",
       "      <td>None</td>\n",
       "      <td>False</td>\n",
       "      <td>0</td>\n",
       "      <td></td>\n",
       "    </tr>\n",
       "    <tr>\n",
       "      <th>3</th>\n",
       "      <td>https://www.courtlistener.com/api/rest/v3/audi...</td>\n",
       "      <td>88893</td>\n",
       "      <td>/audio/88893/united-states-v-chiasson/</td>\n",
       "      <td>[]</td>\n",
       "      <td>https://www.courtlistener.com/api/rest/v3/dock...</td>\n",
       "      <td>2023-11-08T15:30:54.643721-08:00</td>\n",
       "      <td>2023-11-09T02:07:13.803958-08:00</td>\n",
       "      <td>C</td>\n",
       "      <td>Chiasson</td>\n",
       "      <td>United States v. Chiasson</td>\n",
       "      <td></td>\n",
       "      <td></td>\n",
       "      <td>fc1b53568a852f849d5b56420646c81c6ea48bdc</td>\n",
       "      <td>https://www.ca5.uscourts.gov/OralArgRecordings...</td>\n",
       "      <td>mp3/2023/11/08/united_states_v._chiasson_cl.mp3</td>\n",
       "      <td>mp3/2023/11/08/united_states_v._chiasson.mp3</td>\n",
       "      <td>https://archive.org/download/gov.uscourts.ca5....</td>\n",
       "      <td>None</td>\n",
       "      <td>1707.0</td>\n",
       "      <td>True</td>\n",
       "      <td>None</td>\n",
       "      <td>False</td>\n",
       "      <td>0</td>\n",
       "      <td></td>\n",
       "    </tr>\n",
       "    <tr>\n",
       "      <th>4</th>\n",
       "      <td>https://www.courtlistener.com/api/rest/v3/audi...</td>\n",
       "      <td>88892</td>\n",
       "      <td>/audio/88892/united-states-v-hinojosa/</td>\n",
       "      <td>[]</td>\n",
       "      <td>https://www.courtlistener.com/api/rest/v3/dock...</td>\n",
       "      <td>2023-11-08T15:30:48.454223-08:00</td>\n",
       "      <td>2023-11-09T02:02:31.473051-08:00</td>\n",
       "      <td>C</td>\n",
       "      <td>Hinojosa</td>\n",
       "      <td>United States v. Hinojosa</td>\n",
       "      <td></td>\n",
       "      <td></td>\n",
       "      <td>1915553ba72c1a344f8b8f5b270e2cf2436068f8</td>\n",
       "      <td>https://www.ca5.uscourts.gov/OralArgRecordings...</td>\n",
       "      <td>mp3/2023/11/08/united_states_v._hinojosa_cl_1.mp3</td>\n",
       "      <td>mp3/2023/11/08/united_states_v._hinojosa_1.mp3</td>\n",
       "      <td>https://archive.org/download/gov.uscourts.ca5....</td>\n",
       "      <td>None</td>\n",
       "      <td>2315.0</td>\n",
       "      <td>True</td>\n",
       "      <td>None</td>\n",
       "      <td>False</td>\n",
       "      <td>0</td>\n",
       "      <td></td>\n",
       "    </tr>\n",
       "  </tbody>\n",
       "</table>\n",
       "</div>"
      ],
      "text/plain": [
       "                                        resource_uri     id  \\\n",
       "0  https://www.courtlistener.com/api/rest/v3/audi...  88896   \n",
       "1  https://www.courtlistener.com/api/rest/v3/audi...  88895   \n",
       "2  https://www.courtlistener.com/api/rest/v3/audi...  88894   \n",
       "3  https://www.courtlistener.com/api/rest/v3/audi...  88893   \n",
       "4  https://www.courtlistener.com/api/rest/v3/audi...  88892   \n",
       "\n",
       "                                        absolute_url  \\\n",
       "0  /audio/88896/jb-v-kyrene-elementary-school-dis...   \n",
       "1                      /audio/88895/netflix-v-babin/   \n",
       "2      /audio/88894/pointe-dallas-v-undwr-at-lloyds/   \n",
       "3             /audio/88893/united-states-v-chiasson/   \n",
       "4             /audio/88892/united-states-v-hinojosa/   \n",
       "\n",
       "                                               panel  \\\n",
       "0  [https://www.courtlistener.com/api/rest/v3/peo...   \n",
       "1                                                 []   \n",
       "2                                                 []   \n",
       "3                                                 []   \n",
       "4                                                 []   \n",
       "\n",
       "                                              docket  \\\n",
       "0  https://www.courtlistener.com/api/rest/v3/dock...   \n",
       "1  https://www.courtlistener.com/api/rest/v3/dock...   \n",
       "2  https://www.courtlistener.com/api/rest/v3/dock...   \n",
       "3  https://www.courtlistener.com/api/rest/v3/dock...   \n",
       "4  https://www.courtlistener.com/api/rest/v3/dock...   \n",
       "\n",
       "                       date_created                     date_modified source  \\\n",
       "0  2023-11-08T15:31:22.569351-08:00  2023-11-10T03:42:06.317242-08:00      C   \n",
       "1  2023-11-08T15:31:07.678313-08:00  2023-11-10T03:38:11.396431-08:00      C   \n",
       "2  2023-11-08T15:30:59.382170-08:00  2023-11-09T02:02:42.963400-08:00      C   \n",
       "3  2023-11-08T15:30:54.643721-08:00  2023-11-09T02:07:13.803958-08:00      C   \n",
       "4  2023-11-08T15:30:48.454223-08:00  2023-11-09T02:02:31.473051-08:00      C   \n",
       "\n",
       "  case_name_short                                         case_name  \\\n",
       "0            J.B.  J.B. v. Kyrene Elementary School District No. 28   \n",
       "1         Netflix                                  Netflix v. Babin   \n",
       "2                                  Pointe Dallas v. Undwr at Lloyds   \n",
       "3        Chiasson                         United States v. Chiasson   \n",
       "4        Hinojosa                         United States v. Hinojosa   \n",
       "\n",
       "  case_name_full                    judges  \\\n",
       "0                 HAWKINS, COLLINS, Murphy   \n",
       "1                                            \n",
       "2                                            \n",
       "3                                            \n",
       "4                                            \n",
       "\n",
       "                                       sha1  \\\n",
       "0  c3030aa5f90925db7c247f33c40a28b0e40850b3   \n",
       "1  428670ffa67a76a677d5c7acdd18b43cc14bd356   \n",
       "2  594379caefb252de019efed4988591d44a8d2acb   \n",
       "3  fc1b53568a852f849d5b56420646c81c6ea48bdc   \n",
       "4  1915553ba72c1a344f8b8f5b270e2cf2436068f8   \n",
       "\n",
       "                                        download_url  \\\n",
       "0  https://cdn.ca9.uscourts.gov/datastore/media/2...   \n",
       "1  https://www.ca5.uscourts.gov/OralArgRecordings...   \n",
       "2  https://www.ca5.uscourts.gov/OralArgRecordings...   \n",
       "3  https://www.ca5.uscourts.gov/OralArgRecordings...   \n",
       "4  https://www.ca5.uscourts.gov/OralArgRecordings...   \n",
       "\n",
       "                                      local_path_mp3  \\\n",
       "0  mp3/2023/11/08/j.b._v._kyrene_elementary_schoo...   \n",
       "1             mp3/2023/11/08/netflix_v._babin_cl.mp3   \n",
       "2  mp3/2023/11/08/pointe_dallas_v._undwr_at_lloyd...   \n",
       "3    mp3/2023/11/08/united_states_v._chiasson_cl.mp3   \n",
       "4  mp3/2023/11/08/united_states_v._hinojosa_cl_1.mp3   \n",
       "\n",
       "                            local_path_original_file  \\\n",
       "0  mp3/2023/11/08/j.b._v._kyrene_elementary_schoo...   \n",
       "1                mp3/2023/11/08/netflix_v._babin.mp3   \n",
       "2  mp3/2023/11/08/pointe_dallas_v._undwr_at_lloyd...   \n",
       "3       mp3/2023/11/08/united_states_v._chiasson.mp3   \n",
       "4     mp3/2023/11/08/united_states_v._hinojosa_1.mp3   \n",
       "\n",
       "                                         filepath_ia ia_upload_failure_count  \\\n",
       "0  https://archive.org/download/gov.uscourts.ca9....                    None   \n",
       "1  https://archive.org/download/gov.uscourts.ca5....                    None   \n",
       "2  https://archive.org/download/gov.uscourts.ca5....                    None   \n",
       "3  https://archive.org/download/gov.uscourts.ca5....                    None   \n",
       "4  https://archive.org/download/gov.uscourts.ca5....                    None   \n",
       "\n",
       "   duration  processing_complete date_blocked  blocked  stt_status  \\\n",
       "0    1656.0                 True         None    False           0   \n",
       "1    2225.0                 True         None    False           0   \n",
       "2    1448.0                 True         None    False           0   \n",
       "3    1707.0                 True         None    False           0   \n",
       "4    2315.0                 True         None    False           0   \n",
       "\n",
       "  stt_google_response  \n",
       "0                      \n",
       "1                      \n",
       "2                      \n",
       "3                      \n",
       "4                      "
      ]
     },
     "execution_count": 34,
     "metadata": {},
     "output_type": "execute_result"
    }
   ],
   "source": [
    "pd.set_option('display.max_columns', None)\n",
    "\n",
    "df.head()"
   ]
  },
  {
   "cell_type": "code",
   "execution_count": 30,
   "metadata": {},
   "outputs": [],
   "source": [
    "def add_rows_to_excel(input_df, excel_file):\n",
    "    \"\"\"\n",
    "    Adds rows to an excel file. If the excel file doesn't exist, creates it. \n",
    "    If it does exist, only adds the new rows from the input DataFrame. \n",
    "    If the data overlaps, only the distinct rows are saved in the final excel file.\n",
    "\n",
    "    Args:\n",
    "    input_df (pd.DataFrame): The DataFrame to add to the excel file.\n",
    "    excel_file (str): The path to the excel file.\n",
    "    \"\"\"\n",
    "    # Convert lists to strings in input_df\n",
    "    input_df = input_df.applymap(lambda x: str(x) if isinstance(x, list) else x)\n",
    "\n",
    "    if os.path.exists(excel_file):\n",
    "        # Load the existing data\n",
    "        existing_df = pd.read_excel(excel_file)\n",
    "\n",
    "        # Convert lists to strings in existing_df\n",
    "        existing_df = existing_df.applymap(lambda x: str(x) if isinstance(x, list) else x)\n",
    "\n",
    "        # Concatenate the existing data with the new data\n",
    "        combined_df = pd.concat([existing_df, input_df])\n",
    "\n",
    "        # Remove duplicates\n",
    "        final_df = combined_df.drop_duplicates()\n",
    "\n",
    "        # Print the total number of rows and how many new rows were added\n",
    "        print(f\"Total number of rows: {len(final_df)}\")\n",
    "        print(f\"Number of new rows added: {len(final_df) - len(existing_df)}\")\n",
    "    else:\n",
    "        final_df = input_df\n",
    "        # Print the total number of rows as the excel file didn't exist before\n",
    "        print(f\"Total number of rows: {len(final_df)}\")\n",
    "        print(f\"Number of new rows added: {len(final_df)}\")\n",
    "\n",
    "    # Write the data to the excel file\n",
    "    final_df.to_excel(excel_file, index=False)"
   ]
  },
  {
   "cell_type": "code",
   "execution_count": 35,
   "metadata": {},
   "outputs": [
    {
     "name": "stdout",
     "output_type": "stream",
     "text": [
      "Total number of rows: 300\n",
      "Number of new rows added: 100\n"
     ]
    }
   ],
   "source": [
    "add_rows_to_excel(df, \"court_listener_oral_argument_listing.xlsx\")"
   ]
  },
  {
   "cell_type": "code",
   "execution_count": 121,
   "metadata": {},
   "outputs": [
    {
     "data": {
      "text/plain": [
       "'https://cdn.ca9.uscourts.gov/datastore/media/2023/11/08/22-16816.mp3'"
      ]
     },
     "execution_count": 121,
     "metadata": {},
     "output_type": "execute_result"
    }
   ],
   "source": [
    "name = df.iloc[0][\"case_name\"]\n",
    "url = df.iloc[0][\"download_url\"]\n",
    "url"
   ]
  },
  {
   "cell_type": "code",
   "execution_count": 119,
   "metadata": {},
   "outputs": [],
   "source": [
    "def download_mp3(url, file_path):\n",
    "    \"\"\"\n",
    "    Downloads an MP3 file from the given URL and saves it to the specified file path.\n",
    "\n",
    "    Args:\n",
    "    url (str): The URL of the MP3 file.\n",
    "    file_path (str): The local path where the file should be saved.\n",
    "    \"\"\"\n",
    "    try:\n",
    "        # Send a GET request to the URL\n",
    "        response = requests.get(url, stream=True)\n",
    "\n",
    "        # Raise an exception if the request was unsuccessful\n",
    "        response.raise_for_status()\n",
    "\n",
    "        # Open a file in binary write mode\n",
    "        with open(file_path, 'wb') as file:\n",
    "            for chunk in response.iter_content(chunk_size=8192): \n",
    "                # Write the content chunk by chunk to the file\n",
    "                file.write(chunk)\n",
    "\n",
    "        print(f\"File downloaded and saved as {file_path}\")\n",
    "    except requests.RequestException as e:\n",
    "        print(f\"An error occurred: {e}\")"
   ]
  },
  {
   "cell_type": "code",
   "execution_count": 122,
   "metadata": {},
   "outputs": [
    {
     "name": "stdout",
     "output_type": "stream",
     "text": [
      "File downloaded and saved as ./audio/J.B. v. Kyrene Elementary School District No. 28.mp3\n"
     ]
    }
   ],
   "source": [
    "download_mp3(url, f\"./audio/{name}.mp3\")"
   ]
  },
  {
   "cell_type": "code",
   "execution_count": 123,
   "metadata": {},
   "outputs": [
    {
     "name": "stdout",
     "output_type": "stream",
     "text": [
      " 322-0440, Naperville Hotel Partners, LLC, and Superhost Hospitality Incorporated Appalines, versus Liberty Mutual Fire Insurance Company and Firemen's Fund Insurance Company Appalies. Thank you. Good afternoon. Good afternoon. Good afternoon, Your Honor. Mr. Connor, are you ready to begin? Yes, I am, Your Honor. Good afternoon. Colin Connor on behalf of the Appalines. This appeal addresses three key issues in defense motions to dismiss. First, the internal statute of limitations does not clearly, definitively, and explicitly begin to run from the beginning of the injury rather than from the end. Second, the offense should have been stopped from asserting their internal statute of limitations defense. And third, Naperville gave adequate notice of its claim. Given the high hurdles that emotion to dismiss must overcome, an Illinois law liberally constrained policies in favor of the policyholder, Naperville's reasonable interpretation of the internal statute of limitations should govern. The overall considerations are the policy language and reasonableness. The insurers' policies state that suit must be brought within two years after the date on which the physical loss or damage occurred. And instead not include any words like starts and steps or begins in their policy, however. Instead, defendants require suit within two years after the date when any damage occurred without regard to when it began. The only decisions interpreted in this language that either party provided to the trial court find that the limitation runs from the conclusion of the loss. And both decisions involved water infiltration like Naperville has experienced. In the Pinar Amicase, for example, the policy required the policyholder to bring suit within one year after a loss occurs. The Washington Supreme Court stated, a plain, ordinary reading of the contract suggests the policyholder must bring an action for coverage within one year subsequent two or succeed in the loss. This must be distinguished from a contract which requires a policyholder to bring a cover of rejection within 12 months after the inception of the loss. A second directly on point case is Strauss. The policy required that suit be filed within one year after a loss occurs. The seven-circuit analyzes the issue of the same way as Pinar Amicase stating, after a loss occurs, it's fundamentally different from after the inception. Inception of the loss clearly and unmistakably means beginning of damage, while after a loss occurs as ambiguous. Thus, the seven-circuit held that the Strausses could have brought their claim at any point up until after the water infiltration damage halt. As the Pinar Amicase Court stated, the industry knows how to protect itself and knows how to write exclusions and conditions. The Illinois Supreme Court has held a policyholder should not be deprived of the benefit of insurance for which he has paid, except for where the terms of the policy clearly definitively and explicitly required. And that is from Midwest dairy products. Because the insurers did not clearly, definitely and explicitly, draft their internal statutes limitations to run from the inception of the loss they do not. Defendant's agent listed the period of exposure on the loss notice form by September 15, 2017 to April 30, 2019. The damage occurred until at least April 30, 2019. Thus, the statute of limitations did not expire until April 30, 2021. Naperville filed this action on April 26, 2021 before the statute of limitations expired. Council, does that mean that since there were events that occurred like rain events and events that it, does that mean that you get to wait until the last rain event that causes an intrusion before you file and do anything to assert your claim? According to the policy language, that is the way it is drafted. You get to wait until after the conclusion of the loss. And as the only case is interpreting this language anywhere that we have found in the country, I have found that it is at the conclusion of the loss. Council, what do you consider the loss? The damage is done by the water or each event that it rains over an inch. The cumulative effect of the damage to the hotel is the loss, Your Honor. So you believe that you could turn the clock back to the beginning when the defect was first noticed by your client in the back in 15? If that was the conclusion of the loss, that's when it could have started. The policy states that you have until two years after the loss occurred and the loss is a cumulative effect of the damage, which according to the insurer's own agent was at least through April 30, 2019. So the water damage that happened on October of 2017 that was visible to the insured, didn't trigger any kind of an obligation to file a claim or file a lawsuit? Not according to the policy language, Your Honor. The legal language does not clearly, definitely and explicitly state that you have to file a claim within two years after the beginning of the loss. Mr. Conner, what does direct damage mean? Direct damage? Your Honor, the direct damage would be damage to the property. Is there a difference between direct damage and damage that's flowing from something else that occurred before? I'm not sure, Your Honor. I don't believe that the policy, this portion of the policy refers to direct damage. I believe it requires suit within, I actually have a specific language for each insurer. Liberty Mutual says a suit must be brought within two years after the date on which the physical damage occurred. So they have different languages, but those policy terms are not defined in the policy. And defendants have not cited any case supporting their interpretation of the internal statute limitations. The case decided by defendants actually show that insurers know how to draft the internal statute limitations to the property. So they're not going to be able to do that. The case decided by defendants actually show that insurers know how to draft the internal statute limitations to run from the beginning of the damage and that these insurers simply chose not to. For example, the internal statute limitations in the foam craft case cited by defendants require the policy holder file suit within 12 months after discovery of the occurrence. There's no discovery trigger in defendants policies in their statute limitations. Also, the internal statute limitations in Dino cited by defendants require that the policy holder file suit within one year after the inception of the loss. But defendants here chose not to use comparable inception. And as panoramic Strauss state, there has to be a difference between the use of inception and after the loss. Defendants internal statute limitations must be interpreted in favor of Naperville's equally reasonable construction that the statute limitations runs from the end of the damage, which was less than two years before the before Naperville filed suit. This court should reverse the dismissal of Naperville's case as Naperville comply with the internal statute limitations. The trial court also aired and determining the defendants were not stopped from asserting their internal statute limitations defenses. Illinois courts have held an insurer has stopped from raising a limitations defense where its actions during negotiations loathe the policy holder into a false and security causing it to delay the assertion of its rights. Defendants here understood that this is a complex claim with harm emerging over several years. They understood that their policy holders were not withdrawn their claim. So when defendants communicated with Naperville before and after the alleged statute limitations expired without even mentioning the statute limitations, defendants were acknowledging that the policy holders claim was still active and was not barred by any statute limitations. In the months leading up to and when the statute limitations was allegedly going to expire, Liberty Mutual requested additional documents corresponded with Naperville and scheduled an inspection of the loss. It never mentioned that a statute limitations was about to expire. And then after the statute limitations allegedly expired, Liberty Mutual conducted the inspection and requested additional documents. Liberty Mutual waited until it's denied a letter on March 4th, 2020 long after its claim, it claims the statute limitations expired to inform Naperville of its internal statute limitations defense. Liberty Mutual's actions before and after the internal statute limitations had supposedly expired, waive this defense and stop Liberty Mutual from relying on it. Liberty Mutual also has a stop for another reason for raising its statute limitations defense because it did not include it in its reservation of rights letter. The Illinois Supreme Court has held that the reservation of rights must specifically refer to the policy defense that may be asserted, and that the standard mutual versus lay case. Illinois courts also hold that bear notice of a reservation of rights is insufficient. Liberty Mutual's reservation of rights letter included a long list of policy provisions that Liberty Mutual claimed precluded coverage, but it did not list the internal statute limitations. Because a reservation of rights letter did not make specific reference to the policy defense, which ultimately may be asserted, Liberty Mutual is precluded from relying on the internal statute limitations. Firemen's fund also has a stop from asserting the internal statute limitations defense. Firemen's communicated with its policy holders long after the alleged statute limitations expired without mentioning the statute limitations, implying that neighborville neighborville's claim was not barred by any statute limitations. For example, on December 18, 2019, nearly two months after it claims the statute limitations expired, firemen's email neighborville regarding the claim. Firemen's did not assert or mention any possible internal statute limitations in this course by months. So the contrary, it expressly acknowledged that we did not fully display coverage for this loss and went on to acknowledge that there is coverage for the ensuing water damage. Firemen's actions after the internal statute limitations allegedly expired, wave this defense and a stop firemen's from relying on it. The trial court also aired regarding neighborville's notice of claim. They will provide it reasonable notice when it provided notice of the loss to both insurers in May 2019 and the latest. In May 2019, neighborville puts together a cumulative effect of rain damage or long period in a term determined. Yes, Your Honor. Stop for a minute, Mr. counter. Is everybody distracted by the noise and background? Yes. A little bit. I could hear it, Your Honor. Yes. Do we know where it's coming from? I think it's the court itself and it's muted now. It wasn't before. So I think it's been fixed. Okay. All right. Thank you. I apologize, Mr. counter. Go ahead. Thank you, Your Honor. In May 2019, neighborville puts together the cumulative effect of rain damage over a long period of time and determined it should file an insurance claim. Neighborville provided notice to defendants agent and thus the defendants even earlier in 2019. Whether notice is sufficient is typically a factual determination that should not be made at the pleading stage. But even if this was the right time, defendants motion is not well taken. The Illinois Supreme Court has identified five factors. Courts consider making a fact specific reasonable notice determination. The specific language of the policies notice provision. The insured sophistication in commerce and insurance matters. The insured's awareness of an event which may trigger insurance coverage. The insured's diligence and ascertaining whether policy coverage is available and the presence or absence of prejudice. These facts factors support reversing the trial courts to missle and a minimum they raise issues of fact that cannot be adjudicated at this early time in the case. The insured's diligence those provisions do not provide a specific period for providing notice. Illinois courts interpret such provisions as requiring notice with any reasonable time. Illinois courts have held that longer notice periods than here were reasonable even up to five years after the injury. Second, the standard use and determining an insured sophistication is based on his experience not only in the world of commerce but also insurance. In the burglin case cited in Naperville's briefing the policy holder like Naperville purchase insurance for his business and does not have quote any other experience or education and insurance to call for him is sophisticated and sure. Naperville is in the hotel business and does not have education or experience in the hotel in the insurance industry. Third and fourth, Naperville was not aware that an occurrence had taken place until they reported it to be insured in 2019. Each time the hotel suffered water penetration Naperville diligently investigated and addressed what they believed to be discrete events. There was not until 2019 the Naperville became aware of the true extent of the continuous damage and reported it to the insurers. Finally, defendants have suffered no prejudice. They did not describe much less prove how they have been prejudiced even if defendants had alleged specific prejudice. Actual prejudice is a fact question not suitable for determination at the motion to dismiss stage. In some, each of the notice factors shows Naperville notice was reasonable because Naperville comply with both the internal section limitations and the notice provisions. Naperville respectfully requests that this court reverse the trial court's order dismissing Naperville's case and send the case back to the trial court for further proceedings. I'd like to reserve any extra time for rebuttal. Thank you, Your Honor. You have five minutes for rebuttal, Mr. Connor. Thank you very much. Are there any questions for Mr. Connor at this point? I have none. No. Okay. Let's see. I have Mr. Cheryl for seven and a half minutes. Mr. Mr. Shirley, thank you. Thank you. Thank you. I represent a Liberty Mutual Insurance company. I'm going to have to ask you to have a question. And if you recall from my briefs. We only ensured this hotel from September 15, 2017 to October 31, 2017. It was added as an endorsement later on. So I've got a 47 day period. That I think this, this is pretty simple. I think this is a very simple question. I think this is a very simple question. During our oral argument said, this was not a continuous loss. And this is not a continuous loss. She said there are certainly discrete incidents have happened that create the situation of water intrusion. But it's not continuous. And just as all brack. I think hit the point correctly. What I think though we do incomplete this is in September, 2017, another 28 week off the evening age where there was water damage and various watered water intrusion. So focus on October. This is there 13B of their second event to complaint on October 11, 2017. respectively in DuPage County. And then they plead from October 14, 2017 through October 17, 2017, so a period of three days. The hotel experienced water intrusion in the dining area, in the bar, in the hallways, in the stairwells, and in multiple rooms. So if you look at the policy language, that's when the physical damage occurred. And they have two years from that day to bring suit, and they didn't do it. So they specifically allege water damage to the dining area, the bar, hallways, stairwells, multiple rooms. Okay, this water damage was not hidden from them. You don't have to be a lawyer, you don't have to be an insurance broker to know if you own a hotel, and you got water coming in, in your dining room, in your hallways, in your rooms, you've got to call an insurance person, you've got to call your insurance broker, you've got to put them on notice. Like I said, you don't need to be a lawyer, you don't need to be an insurance person. If I had water coming in in my kitchen, I wouldn't wait 19 months like they did to provide notice. So they filed suit, and it's clearly too late. Council sites, two out-of-state cases that don't apply here at all. First, they're obviously not Illinois cases. So let's look at the panoramic case first from Washington. That involved a condominium complex, and the policy covered, collapsed due to hidden decay. Collapse due to hidden decay. So the question was this, the limitation period, said that suit had to be brought within one year after the loss occurred, and the court said, when did the loss occurred? It's either the date of the actual collapse, right? It's one thing, so you actually see the damage, or the date that the decay that poses a risk of collapse is no longer hidden. So either when you see the actual collapse, physical loss, or you see the hidden decay, that's when the period starts. Our case is completely different. They had heavy rains and water intrusion in October 2017. Those were specific dates. They knew the damage was there. They even admit in their brief that each time that they were these water events, they diligently investigated and addressed what they believed to be discrete events. That's page 26 of their brief. So they knew about the rains. They knew about the water damage. It occurred in October 2017. The panoramic case is completely different. The Strauss case from Wisconsin is different. That involved a home. From the time the home was completed, there were latent defects in that home that allowed water infiltration. The insured in that case first learned of water damage in October 2010. They submitted a notice of claim in December 2010. Two months after they found the water, they knew about the water damage and they filed suit October 2011 within the one year period. So that case is different from our case and it's not Illinois law and any of it. Let's talk a little bit about the waiver and a stopper arguments. If you look at pages 9 and 10 of my brief, remember in the summer of 2019, the insured had a lawyer. It was not Mr. Conor. It was a different lawyer, Mr. Jeffrey Youngerman. They also had a claims advocate in the summer of 2019. It's not like the insured was not represented in the summer of 2019. So keep that in mind. The first argument is waiver. I think their argument is we didn't specifically set out the suit limitation provision in our reservation of rights letter or every email or every letter that we saw that we sent them or every email. The bottom line is this. We are not obligated to. There's no Illinois law or any law that I know of that says an insurance company is obligated in a reservation of rights letter or every email to keep reminding the insured. Oh, by the way, this is a suit limitation provision. The foam craft case from Illinois that I cite it states the insured cannot blame the insured's company for its failure to read the policy to discover the requirements for bringing suit. It is not the duty of the insured to inform the insured of the duty. The only regulation I know of an Illinois that talks about suit limitation is section 919.80 of the Illinois administrative code and that requires us to when we deny coverage to set out the number of days told that's the only regulation I know of. And if the Illinois wanted state of Illinois wanted insurance companies to set forth the suit limitation provision in a reservation of rights letter, they would have said so. Very, very quickly on the stop. I know I have a minute. They claim that we conducted an investigation and asked for additional documents. Here's what happened in September when September when the investigation took place. We still didn't know. We still didn't know when the suit limitation had expired. And also the additional documents re-requested. We were waiting on their attorney to send us an expert report. That's all we were waiting on. Thank you. Thank you, Mr. Shirley. Mr. Fishman. I may please the court. I'm Howard Fishman. I represent the other defendant at the Lee Fireman's fund. This case was dismissed on the pleadings. The third amended complaint is the operative pleading as it respects my client. So it was the fourth attempt for the hotel to state of place. And the allegations couldn't be clearer in the complaint and it takes them out of coverage. It's worth reading verbatim paragraph 10 of the third amended complaint. Since the hotel opened in July 2015, during and after rain events, rain penetrates the exterior walls, windows, and roof of the hotel. The rain penetration and resulting damages have continued through the years up to the present. As the Illinois Supreme Court is held in cases like Zurich versus Rainmark, damages can continue through and trigger several periods. Paragraph 11, these rain events cost damage to the hotel, including the exterior and interior of the hotel. And Mr. Conor concedes in this oral argument as he must that the loss here is cumulative. These rain events started in 2015. They continued unabated apparently. There was visible damage. They were placing trash cans underneath these leaks, claiming that that damaged the hotel's reputation, which visible to hotel guests. That's paragraph 14 of their amended complaint. And yet, during 2015, 2016, 2017, 2018, until May of 2019, they didn't notice, provide notice to firements. Arguably, they provided notice a few months earlier to Mesero. They claim as our agent, we dispute that. But as the court well knows on a motion that dismisss, we will team that true. And still 41 months that went by. And what's critical in this case that distinguishes it from all of the other cases relied on by the hotel is it's not latent. This was readily apparent water damage that continued. It was direct damage to property. I think Justice McTayden asked about that. That's the ensuring agreement to direct loss or damage to property that's physical. No question. The interpretation of a policy, the rules of construction are well established and all the way. Insurance policy must be construed as a whole, giving a fact to every provision that we cited LaVore C for that proposition. We cited central Illinois light, both Supreme Court cases. The interpretation that's being urged on the court is it's not reasonable. I would say it's absurd. But it is not reasonable. We'd lead to absurd results. Absurred results in the sense that they could sit on their rights during all of these ensuing years while water is continuing to infiltrate the hotel and say, well, we didn't have to tell you. We're just waiting for it to stop. That's not good policy. It's not what the policy, insurance policy says and it's not reasonable notice under the LaVore C factors. Let me run through those really quick. He did recite the proper test at LaVore C employees. Prompt, notice is deemed reasonable, is construed as reasonable notice. Here we've got 41 months. I don't think that there can be a serious dispute that that is unreasonable as far as time is concerned. The insurance sophistication and commerce and insurance, Mr. Shirley correctly brought up that there was a insurance coverage attorney that said C-29 100 through O-1 in the record and C-5670 V-2. There's an affidavit from that lawyer in the record of this case. The third factor is there awareness of the event triggering coverage. We covered that. It was visible remediation to the extent there was any remediation trash cans visible leaks. Their diligence, you know, they say that their diligence is governed by, quote, actionable occurrence and quote, test. There's no support for that in Illinois law. I don't know what it means. It's not in the policy. It's not under Illinois case law. In fact, it was directly not that explicit language, but that argument was addressed by the Breckenridge case, which is 29 2019 US District Lexus 233 220. I'm quoting from a paraphrasing from page 11 of that decision. Breckenridge, who is the policy holder there, argues that the central focus should be on whether a claim existed, associating a claim for such coverage and did so after producing damage estimates and concluding that the extent of the damage Meredith submitting to claim. Court goes on to reject that and says that in order to make a subjective determination before deciding whether a claim is quote worth it constitutes a reasonably diligent determination of coverage, the court is not willing to endorse that proposition, that test. So the late notice here is apparent. There's certainly prejudice to Fireman's fund. It was deprived of 41 months to investigate this loss. And if it was covered to address the loss, so it wouldn't exacerbate and cause additional property damage. And it was deprived of that opportunity and prejudice. Our alternative argument is on the two year of suit limitation. Mr. Conner, and correct the first to that as an internal statute of limitations. That's not what it is. It is a contractual provision that's a condition preceding to coverage. It was not met here. We have the same triggering event in July of 2015. Suit was filed five years and nine months later. April 26th of 21 was when this case was initiated. That is not even a close call on the two year limitations period. That's not a reasonable construction. And just to support the condition preceded, argument we cited Hoover and phone craft. I'm out of time. No, you have another minute. Oh, okay. I have another minute. Actual knowledge. The Hoover and the Pramer cases stand for the proposition that actual knowledge triggers the suit limitation provision. And that only makes common sense. The court should wear blighters and ignore common sense. The cases that Mr. Conner cites aside from not being binding and aside from being factually distinguishable, there was no known loss that would have triggered the time limitation for providing reasonable notice or for for complying with the suit limitation clause. For that reason, we asked that the court, the trial court, be affirmed in both respects. We make that argument any alternative. So either, either argument or both arguments would carry the day for the score to it for. Thank you very much. Thank you, Mr. Fishman. Mr. Conner, any rebuttal? Yes, Your Honor. I have a few points to make on our bottle. The overriding point is that the considerations here are the policy language that the insurers drafted and reasonableness. The only cases cited by any party interpreting this language, and they are, I fully admit that they are out of state cases, but they are the only two cases in the whole country interpreting this language. And they both found that the, notice, or the statute limitations did not begin to run until the conclusion of the loss. And these policies are these cases were handed down in 2001 for panorama in 2014 for Strauss. So they were before either any of these five insurance policies that issue here were written. The insurers are well aware of this case law holding this. The only cases anywhere in the country interpreting this language. Are they based on the statutes or laws of the states that they cover? They are based on the internal statute limitations and language in each of those policies. Okay. In the panorama and Strauss cases, they are both internal statute limitations provisions. And the, regarding whether this is a continuous loss or not, the specific dates of loss are listed in the complaint as examples only. They're not the only specific dates that there was rain or damage occurring during the policy periods. Those were served, and it missing is explicitly in the complaint that they were examples only. Water intrusion damage is not instantaneous or harmful over time in every instance. For example, it could, it could dry out and may not, it may not lead to damage. That is why there, not, wasn't until 2019 that the policyholder was able to assess the total extent of accumulated damage. Also, water intrusion itself is not damage or loss or direct physical loss. Those, the damage loss or direct physical loss is the damage to the property, damage to the hotel, damage to property inside the hotel. It's not the actual water intrusion itself. So the fact that it might have occurred five different examples over five years, that is not the trigger of the statute of limitations or the notice provision. And also, regarding whether there's any Illinois law regarding including internal statute of limitations in your Reservation of Rights Letter, I have cited specific Illinois Supreme Court precedent holding that you must include any policy defense that you were going to assert to deny a claim in your Reservation of Rights Letter and Liberty Mutual did not do that. They provided a long list, multiple pages of policy defenses that they were going to assert or that they could assert, but they specifically did not mention the statute of limitations. It is also not just, it's not just not telling the policyholder about the statute of limitations. It's also continuing to investigate the claim long after the statute of limitations has allegedly expired that tells the insurer that the session limitations does not apply here. If the insurer is continuing to investigate the claim, ask for additional details, come to the site to inspect the hotel to see if there is covered damage, and also sending communications saying that there is coverage for the claim after they have set the session limitations has expired. I'm also regarding the 41 months, I'm not sure what that refers to the defendant's agent listed the period of exposure through, at least April 30, 2019, and notice or notice was provided shortly thereafter in May 2019. So there's not a 41 month delay, the cumulative effect of the loss and not determined until then and that's when notice was provided. There are no further questions, that is all I have for today. Thank you, Your Honor. Are there any further questions for Mr. Connor? I have none. Not for me to. Okay, thank you, Mr. Connor. We thank the three of you for your arguments this afternoon. We'll take the matter under advisement and we'll issue a written decision as quickly as possible.\n"
     ]
    }
   ],
   "source": [
    "model = whisper.load_model(\"base\")\n",
    "result = model.transcribe(\"./audio/sample_oral_arg.mp3\")\n",
    "print(result[\"text\"])"
   ]
  },
  {
   "cell_type": "code",
   "execution_count": 124,
   "metadata": {},
   "outputs": [],
   "source": [
    "def save_dict_to_txt_file(data_dict, file_name):\n",
    "    \"\"\"\n",
    "    Saves the 'text' value from a dictionary to a .txt file.\n",
    "\n",
    "    Args:\n",
    "    data_dict (dict): The dictionary containing the data.\n",
    "    file_name (str): The name of the .txt file to save the data to.\n",
    "    \"\"\"\n",
    "    # Get the 'text' value from the dictionary\n",
    "    text = data_dict.get('text', '')\n",
    "\n",
    "    # Create 'transcriptions' directory if it doesn't exist\n",
    "    if not os.path.exists('transcriptions'):\n",
    "        os.makedirs('transcriptions')\n",
    "\n",
    "    # Open the file in write mode\n",
    "    with open(f\"transcriptions/{file_name}.txt\", 'w') as file:\n",
    "        # Write the text to the file\n",
    "        file.write(text)\n",
    "\n",
    "    print(f\"Data saved to transcriptions/{file_name}.txt\")\n"
   ]
  },
  {
   "cell_type": "code",
   "execution_count": 125,
   "metadata": {},
   "outputs": [],
   "source": [
    "def read_text_from_txt_file(file_name):\n",
    "    \"\"\"\n",
    "    Reads the text from a .txt file.\n",
    "\n",
    "    Args:\n",
    "    file_name (str): The name of the .txt file to read the data from.\n",
    "    \n",
    "    Returns:\n",
    "    str: The text read from the file.\n",
    "    \"\"\"\n",
    "    # Check if the file exists\n",
    "    if not os.path.exists(f\"transcriptions/{file_name}.txt\"):\n",
    "        print(f\"File transcriptions/{file_name}.txt does not exist.\")\n",
    "        return None\n",
    "\n",
    "    # Open the file in read mode\n",
    "    with open(f\"transcriptions/{file_name}.txt\", 'r') as file:\n",
    "        # Read the text from the file\n",
    "        text = file.read()\n",
    "\n",
    "    return text"
   ]
  },
  {
   "cell_type": "code",
   "execution_count": 126,
   "metadata": {},
   "outputs": [
    {
     "name": "stdout",
     "output_type": "stream",
     "text": [
      "Data saved to transcriptions/lm_sample_oral_arg.txt\n"
     ]
    }
   ],
   "source": [
    "save_dict_to_txt_file(result, \"lm_sample_oral_arg\")"
   ]
  },
  {
   "cell_type": "code",
   "execution_count": 133,
   "metadata": {},
   "outputs": [],
   "source": [
    "text = read_text_from_txt_file(\"lm_sample_oral_arg\")"
   ]
  },
  {
   "cell_type": "code",
   "execution_count": 128,
   "metadata": {},
   "outputs": [],
   "source": [
    "text_splitter = CharacterTextSplitter.from_tiktoken_encoder(chunk_size=2000,chunk_overlap=0,separator=\"\\n\")\n",
    "\n",
    "def run_map_reduce(input_doc, MAP_PROMPT, REDUCE_PROMPT):\n",
    "\n",
    "    llm = ChatOpenAI(model_name=\"gpt-4\", temperature=0.1)\n",
    "    map_llm_chain = LLMChain(llm=llm, prompt=MAP_PROMPT)\n",
    "\n",
    "    llm = ChatOpenAI(model_name=\"gpt-4\", temperature=0.1)\n",
    "    reduce_llm_chain = LLMChain(llm=llm, prompt=REDUCE_PROMPT)\n",
    "\n",
    "    # Takes a list of documents and combines them into a single string\n",
    "    combine_documents_chain = StuffDocumentsChain(\n",
    "            llm_chain=reduce_llm_chain,\n",
    "            document_variable_name=\"text_summaries\")\n",
    "\n",
    "    # Combines and iteravely reduces the mapped documents\n",
    "    reduce_documents_chain = ReduceDocumentsChain(\n",
    "        # This is final chain that is called.\n",
    "        combine_documents_chain=combine_documents_chain,\n",
    "        # If documents exceed context for `combine_documents_chain`\n",
    "        collapse_documents_chain=combine_documents_chain,\n",
    "        # The maximum number of tokens to group documents into.\n",
    "        token_max=3500)\n",
    "\n",
    "    # Combining documents by mapping a chain over them, then combining results\n",
    "    combine_documents = MapReduceDocumentsChain(\n",
    "        # Map chain\n",
    "        llm_chain=map_llm_chain,\n",
    "        # Reduce chain\n",
    "        reduce_documents_chain=reduce_documents_chain,\n",
    "        # The variable name in the llm_chain to put the documents in\n",
    "        document_variable_name=\"text\",\n",
    "        # Return the results of the map steps in the output\n",
    "        ### Bug: this currently does not work ###\n",
    "        return_intermediate_steps=False)\n",
    "\n",
    "    # Define Map=Reduce\n",
    "    map_reduce = MapReduceChain(\n",
    "        # Chain to combine documents\n",
    "        combine_documents_chain=combine_documents,\n",
    "        # Splitter to use for initial split\n",
    "        text_splitter=text_splitter)\n",
    "\n",
    "    return map_reduce.run(input_text=input_doc)"
   ]
  },
  {
   "cell_type": "code",
   "execution_count": 129,
   "metadata": {},
   "outputs": [],
   "source": [
    "map_template_string = \"\"\"Context: {text}\n",
    "As an expert legal analyst, review the Context which is part of an oral argument session and do three things:\n",
    "\n",
    "1. Identify the key facts of the case.\n",
    "2. Summarize plaintiff counsel's main arguments.\n",
    "3. Summarize rebuttals to plaintiff counsel's arguments.\n",
    "\"\"\"\n",
    "\n",
    "reduce_template_string = template = \"\"\"Context: {text_summaries}\n",
    "As an experienced legal analyst, use the context to:\n",
    "\n",
    "Compose a case brief using only the Context.\n",
    "Working step by step, organize the Context into a well-structured\n",
    "outline with the following sections:\n",
    "\n",
    "Facts of Loss: a concise sumary of facts and events relevant to this legal case.\n",
    "Issue: [the facts of the case being argued]\n",
    "Analysis: arguments\n",
    "   [\"Argument 1\": key points from a distinct argument,\n",
    "    \"Rebuttal 1\": key points from the rebuttal to argument 1,\n",
    "    \"Argument 2\": key points from a distinct argument,\n",
    "    \"Rebuttal 2\": key points from the rebuttal to argument 2,\n",
    "    \"Argument X\": ...,\n",
    "    \"Rebuttal X\": ...]\n",
    "Takeaway: the most important argument assertion and its corresponding rebuttal.\n",
    "TODO: optional list of knowledge gaps, or logical flaws in any of the arguments or their rebuttals.\n",
    "\"\"\"\n",
    "MAP_PROMPT = PromptTemplate(input_variables=[\"text\"], template=map_template_string)\n",
    "REDUCE_PROMPT = PromptTemplate(input_variables=[\"text_summaries\"], template=reduce_template_string)"
   ]
  },
  {
   "cell_type": "code",
   "execution_count": 134,
   "metadata": {},
   "outputs": [],
   "source": [
    "result = run_map_reduce(text, MAP_PROMPT, REDUCE_PROMPT)"
   ]
  },
  {
   "cell_type": "code",
   "execution_count": 135,
   "metadata": {},
   "outputs": [
    {
     "data": {
      "text/markdown": [
       "Case Brief:\n",
       "\n",
       "Title: Naperville Hotel Partners, LLC, and Superhost Hospitality Incorporated vs. Liberty Mutual Fire Insurance Company and Firemen's Fund Insurance Company\n",
       "\n",
       "Facts of Loss: The case revolves around the interpretation of the internal statute of limitations in the insurance policies held by Naperville Hotel Partners, LLC, and Superhost Hospitality Incorporated with Liberty Mutual Fire Insurance Company and Firemen's Fund Insurance Company. The appellants argue that the statute of limitations should begin to run from the end of the injury, not the beginning, and that they gave adequate notice of their claim. The appellees argue that the appellants failed to file their claim within the two-year period stipulated in the policy after the occurrence of the physical damage.\n",
       "\n",
       "Issue: The main issue is the interpretation of the internal statute of limitations in the insurance policies and whether the appellees should be estopped from asserting their internal statute of limitations defense.\n",
       "\n",
       "Analysis:\n",
       "Argument 1: The appellants argue that the internal statute of limitations does not clearly, definitively, and explicitly begin to run from the beginning of the injury rather than from the end. They also argue that the appellees should have been estopped from asserting their internal statute of limitations defense.\n",
       "Rebuttal 1: The appellees argue that the appellants' interpretation of the internal statute of limitations is not reasonable and would lead to absurd results. They also argue that the appellants' claim that the appellees should be estopped from asserting their internal statute of limitations defense is not valid.\n",
       "\n",
       "Argument 2: The appellants contend that they gave adequate notice of their claim and that the insurers' policies do not include any words like \"starts\" and \"steps\" or \"begins\" in their policy.\n",
       "Rebuttal 2: The appellees contend that the appellants knew about the water damage and should have filed their claim within the two-year period stipulated in the policy. They also dispute the claim that the insurers continued to investigate the claim after the statute of limitations had expired.\n",
       "\n",
       "Takeaway: The most important argument assertion is the interpretation of the internal statute of limitations in the insurance policies and its corresponding rebuttal is that the appellants' interpretation is not reasonable and would lead to absurd results.\n",
       "\n",
       "Knowledge Gaps: The case does not provide information on the specific wording of the insurance policies, which could have a significant impact on the interpretation of the internal statute of limitations. Additionally, the case does not provide information on the specific timeline of events, which could affect the validity of the appellants' claim that they gave adequate notice of their claim."
      ],
      "text/plain": [
       "<IPython.core.display.Markdown object>"
      ]
     },
     "metadata": {},
     "output_type": "display_data"
    }
   ],
   "source": [
    "display(Markdown(f\"{result}\"))"
   ]
  },
  {
   "cell_type": "code",
   "execution_count": 136,
   "metadata": {},
   "outputs": [],
   "source": [
    "class CourtroomParty(BaseModel):\n",
    "    \"\"\"Identifying information about a person.\"\"\"\n",
    "    \n",
    "    person: str = Field(..., description=\"The name of the person speaking\")\n",
    "    role: Optional[str] = Field(None, description=\"The role of the person speaking\")\n",
    "    background: Optional[str] = Field(None, description=\"A concise summary about the person\")\n",
    "    \n",
    "\n",
    "class OralArgument(BaseModel):\n",
    "    \"\"\"Identifying information about a particular argument.\"\"\"\n",
    "    \n",
    "    topic: str = Field(..., description=\"A concise topic title for the argument\")\n",
    "    side: Optional[str] = Field(None, description=\"The side the argument favors, plaintiff or defense\")\n",
    "    person: Optional[str] = Field(None, description=\"The name of the person presenting the argument\")\n",
    "    summary: Optional[str] = Field(None, description=\"A concise summary of key points\")\n",
    "    \n",
    "\n",
    "class OralDocket(BaseModel):\n",
    "    \"\"\"Identifying information in a text.\"\"\"\n",
    "\n",
    "    parties: Sequence[CourtroomParty] = Field(..., description=\"The information of interest in the text\")\n",
    "    arguments: Sequence[OralArgument] = Field(..., description=\"The information of interest in the text\")"
   ]
  },
  {
   "cell_type": "code",
   "execution_count": 137,
   "metadata": {},
   "outputs": [],
   "source": [
    "text_splitter = RecursiveCharacterTextSplitter(\n",
    "    chunk_size = 2000,\n",
    "    chunk_overlap  = 0,\n",
    "    is_separator_regex = False,\n",
    ")"
   ]
  },
  {
   "cell_type": "code",
   "execution_count": 138,
   "metadata": {},
   "outputs": [],
   "source": [
    "loader = TextLoader(\"transcriptions/lm_sample_oral_arg.txt\")\n",
    "doc = loader.load()"
   ]
  },
  {
   "cell_type": "code",
   "execution_count": 139,
   "metadata": {},
   "outputs": [],
   "source": [
    "docs = text_splitter.split_documents(doc)"
   ]
  },
  {
   "cell_type": "code",
   "execution_count": 140,
   "metadata": {},
   "outputs": [],
   "source": [
    "llm = ChatOpenAI(model=\"gpt-4-1106-preview\", temperature=0)\n",
    "\n",
    "prompt = ChatPromptTemplate.from_messages(\n",
    "    [\n",
    "        (\n",
    "            \"system\",\n",
    "            \"You are a world class algorithm for extracting information in structured formats.\",\n",
    "        ),\n",
    "        (\n",
    "            \"human\",\n",
    "            \"Use the given format to extract information from the following input: {input}\",\n",
    "        ),\n",
    "        (\"human\", \"Tip: Make sure to answer in the correct format\"),\n",
    "    ]\n",
    ")"
   ]
  },
  {
   "cell_type": "code",
   "execution_count": 141,
   "metadata": {},
   "outputs": [],
   "source": [
    "runnable = create_structured_output_runnable(OralDocket, llm, prompt)"
   ]
  },
  {
   "cell_type": "code",
   "execution_count": 142,
   "metadata": {},
   "outputs": [],
   "source": [
    "res_docs = []\n",
    "\n",
    "for i in range(len(docs)):\n",
    "    res_doc = runnable.invoke({\"input\": docs[i]})\n",
    "    res_docs.append(res_doc)"
   ]
  },
  {
   "cell_type": "code",
   "execution_count": 143,
   "metadata": {},
   "outputs": [],
   "source": [
    "# Convert each object instance to a dictionary\n",
    "data_dicts = [instance.dict() for instance in res_docs]\n",
    "\n",
    "# Write the list of dictionaries to a JSON file\n",
    "with open('data.json', 'w') as f:\n",
    "    json.dump(data_dicts, f)"
   ]
  },
  {
   "cell_type": "code",
   "execution_count": 144,
   "metadata": {},
   "outputs": [],
   "source": [
    "# Create a DataFrame for parties\n",
    "parties_data = [data_dict['parties'] for data_dict in data_dicts]\n",
    "df_parties = pd.concat([json_normalize(data) for data in parties_data], ignore_index=True)\n",
    "\n",
    "# Create a DataFrame for arguments\n",
    "arguments_data = [data_dict['arguments'] for data_dict in data_dicts]\n",
    "df_arguments = pd.concat([json_normalize(data) for data in arguments_data], ignore_index=True)"
   ]
  },
  {
   "cell_type": "code",
   "execution_count": 151,
   "metadata": {},
   "outputs": [],
   "source": [
    "df_parties.to_excel(\"example_case_parties.xlsx\", index=False)\n",
    "df_arguments.to_excel(\"example_case_topics.xlsx\", index=False)"
   ]
  },
  {
   "cell_type": "code",
   "execution_count": 145,
   "metadata": {},
   "outputs": [
    {
     "name": "stdout",
     "output_type": "stream",
     "text": [
      "Shape of parties df: (42, 3)\n"
     ]
    },
    {
     "data": {
      "text/html": [
       "<div>\n",
       "<style scoped>\n",
       "    .dataframe tbody tr th:only-of-type {\n",
       "        vertical-align: middle;\n",
       "    }\n",
       "\n",
       "    .dataframe tbody tr th {\n",
       "        vertical-align: top;\n",
       "    }\n",
       "\n",
       "    .dataframe thead th {\n",
       "        text-align: right;\n",
       "    }\n",
       "</style>\n",
       "<table border=\"1\" class=\"dataframe\">\n",
       "  <thead>\n",
       "    <tr style=\"text-align: right;\">\n",
       "      <th></th>\n",
       "      <th>person</th>\n",
       "      <th>role</th>\n",
       "      <th>background</th>\n",
       "    </tr>\n",
       "  </thead>\n",
       "  <tbody>\n",
       "    <tr>\n",
       "      <th>0</th>\n",
       "      <td>Colin Connor</td>\n",
       "      <td>Counsel</td>\n",
       "      <td>Representative for the Appalines</td>\n",
       "    </tr>\n",
       "    <tr>\n",
       "      <th>1</th>\n",
       "      <td>Naperville Hotel Partners, LLC</td>\n",
       "      <td>Plaintiff</td>\n",
       "      <td>One of the Appalines in the case</td>\n",
       "    </tr>\n",
       "    <tr>\n",
       "      <th>2</th>\n",
       "      <td>Superhost Hospitality Incorporated</td>\n",
       "      <td>Plaintiff</td>\n",
       "      <td>One of the Appalines in the case</td>\n",
       "    </tr>\n",
       "    <tr>\n",
       "      <th>3</th>\n",
       "      <td>Liberty Mutual Fire Insurance Company</td>\n",
       "      <td>Defendant</td>\n",
       "      <td>One of the Appalies in the case</td>\n",
       "    </tr>\n",
       "    <tr>\n",
       "      <th>4</th>\n",
       "      <td>Firemen's Fund Insurance Company</td>\n",
       "      <td>Defendant</td>\n",
       "      <td>One of the Appalies in the case</td>\n",
       "    </tr>\n",
       "    <tr>\n",
       "      <th>5</th>\n",
       "      <td>Strauss</td>\n",
       "      <td>Plaintiff</td>\n",
       "      <td>Involved in a case regarding the timing of fil...</td>\n",
       "    </tr>\n",
       "    <tr>\n",
       "      <th>6</th>\n",
       "      <td>Pinar Amicase Court</td>\n",
       "      <td>Court</td>\n",
       "      <td>Analyzed the issue of policy terms regarding t...</td>\n",
       "    </tr>\n",
       "    <tr>\n",
       "      <th>7</th>\n",
       "      <td>Midwest Dairy Products</td>\n",
       "      <td>Referenced Entity</td>\n",
       "      <td>Illinois Supreme Court case cited for the prin...</td>\n",
       "    </tr>\n",
       "    <tr>\n",
       "      <th>8</th>\n",
       "      <td>Defendant's agent</td>\n",
       "      <td>Agent</td>\n",
       "      <td>Listed the period of exposure on the loss noti...</td>\n",
       "    </tr>\n",
       "    <tr>\n",
       "      <th>9</th>\n",
       "      <td>Naperville</td>\n",
       "      <td>Plaintiff</td>\n",
       "      <td>Filed an action before the statute of limitati...</td>\n",
       "    </tr>\n",
       "    <tr>\n",
       "      <th>10</th>\n",
       "      <td>Counsel</td>\n",
       "      <td>Legal Representative</td>\n",
       "      <td>Arguing on behalf of the plaintiff regarding t...</td>\n",
       "    </tr>\n",
       "    <tr>\n",
       "      <th>11</th>\n",
       "      <td>Council</td>\n",
       "      <td>Attorney</td>\n",
       "      <td>Represents the plaintiff in the case, discussi...</td>\n",
       "    </tr>\n",
       "    <tr>\n",
       "      <th>12</th>\n",
       "      <td>Your Honor</td>\n",
       "      <td>Judge</td>\n",
       "      <td>Presiding over the case, asking questions to c...</td>\n",
       "    </tr>\n",
       "    <tr>\n",
       "      <th>13</th>\n",
       "      <td>Mr. Conner</td>\n",
       "      <td>Attorney</td>\n",
       "      <td>Represents the defense, discussing the policy ...</td>\n",
       "    </tr>\n",
       "    <tr>\n",
       "      <th>14</th>\n",
       "      <td>Naperville</td>\n",
       "      <td>Plaintiff</td>\n",
       "      <td>Naperville is arguing that the internal statut...</td>\n",
       "    </tr>\n",
       "    <tr>\n",
       "      <th>15</th>\n",
       "      <td>Defendants</td>\n",
       "      <td>Defense</td>\n",
       "      <td>Defendants cited cases with different internal...</td>\n",
       "    </tr>\n",
       "    <tr>\n",
       "      <th>16</th>\n",
       "      <td>Liberty Mutual</td>\n",
       "      <td>Defendant</td>\n",
       "      <td>Liberty Mutual is mentioned in the context of ...</td>\n",
       "    </tr>\n",
       "    <tr>\n",
       "      <th>17</th>\n",
       "      <td>Liberty Mutual</td>\n",
       "      <td>Defense</td>\n",
       "      <td>Insurance company involved in a dispute over s...</td>\n",
       "    </tr>\n",
       "    <tr>\n",
       "      <th>18</th>\n",
       "      <td>Naperville</td>\n",
       "      <td>Plaintiff</td>\n",
       "      <td>Party claiming against Liberty Mutual, affecte...</td>\n",
       "    </tr>\n",
       "    <tr>\n",
       "      <th>19</th>\n",
       "      <td>Firemen's Fund</td>\n",
       "      <td>Defense</td>\n",
       "      <td>Insurance company similar to Liberty Mutual, i...</td>\n",
       "    </tr>\n",
       "    <tr>\n",
       "      <th>20</th>\n",
       "      <td>Mr. Counter</td>\n",
       "      <td>Attorney</td>\n",
       "      <td>Presenting arguments regarding Neighborville's...</td>\n",
       "    </tr>\n",
       "    <tr>\n",
       "      <th>21</th>\n",
       "      <td>Your Honor</td>\n",
       "      <td>Judge</td>\n",
       "      <td>Presiding over the case and addressing a noise...</td>\n",
       "    </tr>\n",
       "    <tr>\n",
       "      <th>22</th>\n",
       "      <td>Naperville</td>\n",
       "      <td>Plaintiff</td>\n",
       "      <td>Naperville is in the hotel business and does n...</td>\n",
       "    </tr>\n",
       "    <tr>\n",
       "      <th>23</th>\n",
       "      <td>Defendants</td>\n",
       "      <td>Defense</td>\n",
       "      <td>Defendants have not described or proved how th...</td>\n",
       "    </tr>\n",
       "    <tr>\n",
       "      <th>24</th>\n",
       "      <td>Mr. Connor</td>\n",
       "      <td>Speaker</td>\n",
       "      <td>A person who was asked questions during the or...</td>\n",
       "    </tr>\n",
       "    <tr>\n",
       "      <th>25</th>\n",
       "      <td>Mr. Cheryl</td>\n",
       "      <td>Speaker</td>\n",
       "      <td>Represents Liberty Mutual Insurance company.</td>\n",
       "    </tr>\n",
       "    <tr>\n",
       "      <th>26</th>\n",
       "      <td>Council</td>\n",
       "      <td>Attorney</td>\n",
       "      <td>Cites two out-of-state cases that are not appl...</td>\n",
       "    </tr>\n",
       "    <tr>\n",
       "      <th>27</th>\n",
       "      <td>Mr. Jeffrey Youngerman</td>\n",
       "      <td>Lawyer</td>\n",
       "      <td>Represented the insured in the summer of 2019.</td>\n",
       "    </tr>\n",
       "    <tr>\n",
       "      <th>28</th>\n",
       "      <td>Mr. Shirley</td>\n",
       "      <td>Unknown</td>\n",
       "      <td>None</td>\n",
       "    </tr>\n",
       "    <tr>\n",
       "      <th>29</th>\n",
       "      <td>Howard Fishman</td>\n",
       "      <td>Attorney</td>\n",
       "      <td>Represents the other defendant at the Lee Fire...</td>\n",
       "    </tr>\n",
       "    <tr>\n",
       "      <th>30</th>\n",
       "      <td>Mr. Conor</td>\n",
       "      <td>Unknown</td>\n",
       "      <td>None</td>\n",
       "    </tr>\n",
       "    <tr>\n",
       "      <th>31</th>\n",
       "      <td>Justice McTayden</td>\n",
       "      <td>Justice</td>\n",
       "      <td>None</td>\n",
       "    </tr>\n",
       "    <tr>\n",
       "      <th>32</th>\n",
       "      <td>LaVore C</td>\n",
       "      <td>Case Reference</td>\n",
       "      <td>A case cited for the proposition of interpreti...</td>\n",
       "    </tr>\n",
       "    <tr>\n",
       "      <th>33</th>\n",
       "      <td>Central Illinois Light</td>\n",
       "      <td>Case Reference</td>\n",
       "      <td>A Supreme Court case cited for the interpretat...</td>\n",
       "    </tr>\n",
       "    <tr>\n",
       "      <th>34</th>\n",
       "      <td>Mr. Shirley</td>\n",
       "      <td>Attorney</td>\n",
       "      <td>An attorney who brought up the insurance cover...</td>\n",
       "    </tr>\n",
       "    <tr>\n",
       "      <th>35</th>\n",
       "      <td>Breckenridge</td>\n",
       "      <td>Policy Holder</td>\n",
       "      <td>Argues that the focus should be on whether a c...</td>\n",
       "    </tr>\n",
       "    <tr>\n",
       "      <th>36</th>\n",
       "      <td>Fireman's Fund</td>\n",
       "      <td>Insurance Company</td>\n",
       "      <td>Prejudiced due to late notice of the claim, de...</td>\n",
       "    </tr>\n",
       "    <tr>\n",
       "      <th>37</th>\n",
       "      <td>Mr. Conner</td>\n",
       "      <td>Counsel</td>\n",
       "      <td>References an internal statute of limitations ...</td>\n",
       "    </tr>\n",
       "    <tr>\n",
       "      <th>38</th>\n",
       "      <td>Mr. Fishman</td>\n",
       "      <td>Attorney</td>\n",
       "      <td>Presented arguments for affirming the trial co...</td>\n",
       "    </tr>\n",
       "    <tr>\n",
       "      <th>39</th>\n",
       "      <td>Mr. Conner</td>\n",
       "      <td>Attorney</td>\n",
       "      <td>Presented rebuttal arguments focusing on polic...</td>\n",
       "    </tr>\n",
       "    <tr>\n",
       "      <th>40</th>\n",
       "      <td>Unknown</td>\n",
       "      <td>Counsel</td>\n",
       "      <td>Arguing on behalf of the policyholder against ...</td>\n",
       "    </tr>\n",
       "    <tr>\n",
       "      <th>41</th>\n",
       "      <td>Mr. Connor</td>\n",
       "      <td>Witness</td>\n",
       "      <td>None</td>\n",
       "    </tr>\n",
       "  </tbody>\n",
       "</table>\n",
       "</div>"
      ],
      "text/plain": [
       "                                   person                  role  \\\n",
       "0                            Colin Connor               Counsel   \n",
       "1          Naperville Hotel Partners, LLC             Plaintiff   \n",
       "2      Superhost Hospitality Incorporated             Plaintiff   \n",
       "3   Liberty Mutual Fire Insurance Company             Defendant   \n",
       "4        Firemen's Fund Insurance Company             Defendant   \n",
       "5                                 Strauss             Plaintiff   \n",
       "6                     Pinar Amicase Court                 Court   \n",
       "7                  Midwest Dairy Products     Referenced Entity   \n",
       "8                       Defendant's agent                 Agent   \n",
       "9                              Naperville             Plaintiff   \n",
       "10                                Counsel  Legal Representative   \n",
       "11                                Council              Attorney   \n",
       "12                             Your Honor                 Judge   \n",
       "13                             Mr. Conner              Attorney   \n",
       "14                             Naperville             Plaintiff   \n",
       "15                             Defendants               Defense   \n",
       "16                         Liberty Mutual             Defendant   \n",
       "17                         Liberty Mutual               Defense   \n",
       "18                             Naperville             Plaintiff   \n",
       "19                         Firemen's Fund               Defense   \n",
       "20                            Mr. Counter              Attorney   \n",
       "21                             Your Honor                 Judge   \n",
       "22                             Naperville             Plaintiff   \n",
       "23                             Defendants               Defense   \n",
       "24                             Mr. Connor               Speaker   \n",
       "25                             Mr. Cheryl               Speaker   \n",
       "26                                Council              Attorney   \n",
       "27                 Mr. Jeffrey Youngerman                Lawyer   \n",
       "28                            Mr. Shirley               Unknown   \n",
       "29                         Howard Fishman              Attorney   \n",
       "30                              Mr. Conor               Unknown   \n",
       "31                       Justice McTayden               Justice   \n",
       "32                               LaVore C        Case Reference   \n",
       "33                 Central Illinois Light        Case Reference   \n",
       "34                            Mr. Shirley              Attorney   \n",
       "35                           Breckenridge         Policy Holder   \n",
       "36                         Fireman's Fund     Insurance Company   \n",
       "37                             Mr. Conner               Counsel   \n",
       "38                            Mr. Fishman              Attorney   \n",
       "39                             Mr. Conner              Attorney   \n",
       "40                                Unknown               Counsel   \n",
       "41                             Mr. Connor               Witness   \n",
       "\n",
       "                                           background  \n",
       "0                    Representative for the Appalines  \n",
       "1                    One of the Appalines in the case  \n",
       "2                    One of the Appalines in the case  \n",
       "3                     One of the Appalies in the case  \n",
       "4                     One of the Appalies in the case  \n",
       "5   Involved in a case regarding the timing of fil...  \n",
       "6   Analyzed the issue of policy terms regarding t...  \n",
       "7   Illinois Supreme Court case cited for the prin...  \n",
       "8   Listed the period of exposure on the loss noti...  \n",
       "9   Filed an action before the statute of limitati...  \n",
       "10  Arguing on behalf of the plaintiff regarding t...  \n",
       "11  Represents the plaintiff in the case, discussi...  \n",
       "12  Presiding over the case, asking questions to c...  \n",
       "13  Represents the defense, discussing the policy ...  \n",
       "14  Naperville is arguing that the internal statut...  \n",
       "15  Defendants cited cases with different internal...  \n",
       "16  Liberty Mutual is mentioned in the context of ...  \n",
       "17  Insurance company involved in a dispute over s...  \n",
       "18  Party claiming against Liberty Mutual, affecte...  \n",
       "19  Insurance company similar to Liberty Mutual, i...  \n",
       "20  Presenting arguments regarding Neighborville's...  \n",
       "21  Presiding over the case and addressing a noise...  \n",
       "22  Naperville is in the hotel business and does n...  \n",
       "23  Defendants have not described or proved how th...  \n",
       "24  A person who was asked questions during the or...  \n",
       "25       Represents Liberty Mutual Insurance company.  \n",
       "26  Cites two out-of-state cases that are not appl...  \n",
       "27     Represented the insured in the summer of 2019.  \n",
       "28                                               None  \n",
       "29  Represents the other defendant at the Lee Fire...  \n",
       "30                                               None  \n",
       "31                                               None  \n",
       "32  A case cited for the proposition of interpreti...  \n",
       "33  A Supreme Court case cited for the interpretat...  \n",
       "34  An attorney who brought up the insurance cover...  \n",
       "35  Argues that the focus should be on whether a c...  \n",
       "36  Prejudiced due to late notice of the claim, de...  \n",
       "37  References an internal statute of limitations ...  \n",
       "38  Presented arguments for affirming the trial co...  \n",
       "39  Presented rebuttal arguments focusing on polic...  \n",
       "40  Arguing on behalf of the policyholder against ...  \n",
       "41                                               None  "
      ]
     },
     "execution_count": 145,
     "metadata": {},
     "output_type": "execute_result"
    }
   ],
   "source": [
    "print(f\"Shape of parties df: {df_parties.shape}\")\n",
    "df_parties"
   ]
  },
  {
   "cell_type": "code",
   "execution_count": 146,
   "metadata": {},
   "outputs": [
    {
     "data": {
      "text/plain": [
       "role\n",
       "Attorney                8\n",
       "Plaintiff               7\n",
       "Defense                 4\n",
       "Counsel                 3\n",
       "Defendant               3\n",
       "Judge                   2\n",
       "Speaker                 2\n",
       "Unknown                 2\n",
       "Case Reference          2\n",
       "Referenced Entity       1\n",
       "Agent                   1\n",
       "Legal Representative    1\n",
       "Court                   1\n",
       "Lawyer                  1\n",
       "Justice                 1\n",
       "Policy Holder           1\n",
       "Insurance Company       1\n",
       "Witness                 1\n",
       "Name: count, dtype: int64"
      ]
     },
     "execution_count": 146,
     "metadata": {},
     "output_type": "execute_result"
    }
   ],
   "source": [
    "df_parties.role.value_counts()"
   ]
  },
  {
   "cell_type": "code",
   "execution_count": 147,
   "metadata": {},
   "outputs": [
    {
     "name": "stdout",
     "output_type": "stream",
     "text": [
      "Shape of arguments df: (59, 4)\n"
     ]
    },
    {
     "data": {
      "text/html": [
       "<div>\n",
       "<style scoped>\n",
       "    .dataframe tbody tr th:only-of-type {\n",
       "        vertical-align: middle;\n",
       "    }\n",
       "\n",
       "    .dataframe tbody tr th {\n",
       "        vertical-align: top;\n",
       "    }\n",
       "\n",
       "    .dataframe thead th {\n",
       "        text-align: right;\n",
       "    }\n",
       "</style>\n",
       "<table border=\"1\" class=\"dataframe\">\n",
       "  <thead>\n",
       "    <tr style=\"text-align: right;\">\n",
       "      <th></th>\n",
       "      <th>topic</th>\n",
       "      <th>side</th>\n",
       "      <th>person</th>\n",
       "      <th>summary</th>\n",
       "    </tr>\n",
       "  </thead>\n",
       "  <tbody>\n",
       "    <tr>\n",
       "      <th>0</th>\n",
       "      <td>Statute of Limitations</td>\n",
       "      <td>Plaintiff</td>\n",
       "      <td>Colin Connor</td>\n",
       "      <td>The internal statute of limitations should beg...</td>\n",
       "    </tr>\n",
       "    <tr>\n",
       "      <th>1</th>\n",
       "      <td>Estoppel of Limitations Defense</td>\n",
       "      <td>Plaintiff</td>\n",
       "      <td>Colin Connor</td>\n",
       "      <td>The defense should be estopped from asserting ...</td>\n",
       "    </tr>\n",
       "    <tr>\n",
       "      <th>2</th>\n",
       "      <td>Adequate Notice of Claim</td>\n",
       "      <td>Plaintiff</td>\n",
       "      <td>Colin Connor</td>\n",
       "      <td>Naperville gave adequate notice of its claim.</td>\n",
       "    </tr>\n",
       "    <tr>\n",
       "      <th>3</th>\n",
       "      <td>Interpretation of Policy Language</td>\n",
       "      <td>Plaintiff</td>\n",
       "      <td>Colin Connor</td>\n",
       "      <td>Illinois law favors policyholders, and the rea...</td>\n",
       "    </tr>\n",
       "    <tr>\n",
       "      <th>4</th>\n",
       "      <td>Policy Language on Physical Loss or Damage</td>\n",
       "      <td>Plaintiff</td>\n",
       "      <td>Colin Connor</td>\n",
       "      <td>The insurers' policies do not clearly state wh...</td>\n",
       "    </tr>\n",
       "    <tr>\n",
       "      <th>5</th>\n",
       "      <td>Contractual Limitation Period</td>\n",
       "      <td>Defense</td>\n",
       "      <td>Strauss</td>\n",
       "      <td>The policy required that suit be filed within ...</td>\n",
       "    </tr>\n",
       "    <tr>\n",
       "      <th>6</th>\n",
       "      <td>Policy Language Interpretation</td>\n",
       "      <td>Plaintiff</td>\n",
       "      <td>Pinar Amicase Court</td>\n",
       "      <td>After a loss occurs is fundamentally different...</td>\n",
       "    </tr>\n",
       "    <tr>\n",
       "      <th>7</th>\n",
       "      <td>Insurance Benefit Protection</td>\n",
       "      <td>Plaintiff</td>\n",
       "      <td>Midwest Dairy Products</td>\n",
       "      <td>A policyholder should not be deprived of the b...</td>\n",
       "    </tr>\n",
       "    <tr>\n",
       "      <th>8</th>\n",
       "      <td>Statute of Limitations</td>\n",
       "      <td>Plaintiff</td>\n",
       "      <td>Naperville</td>\n",
       "      <td>The damage occurred until at least April 30, 2...</td>\n",
       "    </tr>\n",
       "    <tr>\n",
       "      <th>9</th>\n",
       "      <td>Policy Language and Claim Assertion</td>\n",
       "      <td>Plaintiff</td>\n",
       "      <td>Counsel</td>\n",
       "      <td>According to the policy language, you get to w...</td>\n",
       "    </tr>\n",
       "    <tr>\n",
       "      <th>10</th>\n",
       "      <td>Definition of Loss</td>\n",
       "      <td>Plaintiff</td>\n",
       "      <td>Council</td>\n",
       "      <td>Argues that the loss is the cumulative effect ...</td>\n",
       "    </tr>\n",
       "    <tr>\n",
       "      <th>11</th>\n",
       "      <td>Policy Language on Filing Claims</td>\n",
       "      <td>Plaintiff</td>\n",
       "      <td>Council</td>\n",
       "      <td>Claims that the policy does not explicitly sta...</td>\n",
       "    </tr>\n",
       "    <tr>\n",
       "      <th>12</th>\n",
       "      <td>Definition of Direct Damage</td>\n",
       "      <td>Defense</td>\n",
       "      <td>Mr. Conner</td>\n",
       "      <td>Discusses the meaning of 'direct damage' in th...</td>\n",
       "    </tr>\n",
       "    <tr>\n",
       "      <th>13</th>\n",
       "      <td>Internal Statute of Limitations</td>\n",
       "      <td>Plaintiff</td>\n",
       "      <td>Naperville</td>\n",
       "      <td>Naperville argues that the internal statute of...</td>\n",
       "    </tr>\n",
       "    <tr>\n",
       "      <th>14</th>\n",
       "      <td>Internal Statute of Limitations</td>\n",
       "      <td>Defense</td>\n",
       "      <td>Defendants</td>\n",
       "      <td>Defendants argue that the internal statute of ...</td>\n",
       "    </tr>\n",
       "    <tr>\n",
       "      <th>15</th>\n",
       "      <td>Estoppel of Statute of Limitations Defense</td>\n",
       "      <td>Plaintiff</td>\n",
       "      <td>Naperville</td>\n",
       "      <td>Naperville contends that defendants are estopp...</td>\n",
       "    </tr>\n",
       "    <tr>\n",
       "      <th>16</th>\n",
       "      <td>Acknowledgment of Active Claim</td>\n",
       "      <td>Plaintiff</td>\n",
       "      <td>Naperville</td>\n",
       "      <td>Naperville argues that by communicating with t...</td>\n",
       "    </tr>\n",
       "    <tr>\n",
       "      <th>17</th>\n",
       "      <td>Statute of Limitations Defense Waiver</td>\n",
       "      <td>Plaintiff</td>\n",
       "      <td>Naperville</td>\n",
       "      <td>Liberty Mutual waived the statute of limitatio...</td>\n",
       "    </tr>\n",
       "    <tr>\n",
       "      <th>18</th>\n",
       "      <td>Reservation of Rights Letter</td>\n",
       "      <td>Plaintiff</td>\n",
       "      <td>Naperville</td>\n",
       "      <td>Liberty Mutual is precluded from relying on th...</td>\n",
       "    </tr>\n",
       "    <tr>\n",
       "      <th>19</th>\n",
       "      <td>Estoppel on Statute Limitations Defense</td>\n",
       "      <td>Plaintiff</td>\n",
       "      <td>Naperville</td>\n",
       "      <td>Firemen's Fund is estopped from asserting the ...</td>\n",
       "    </tr>\n",
       "    <tr>\n",
       "      <th>20</th>\n",
       "      <td>Statute of Limitations Defense</td>\n",
       "      <td>Defense</td>\n",
       "      <td>Mr. Counter</td>\n",
       "      <td>The defense's statute of limitations argument ...</td>\n",
       "    </tr>\n",
       "    <tr>\n",
       "      <th>21</th>\n",
       "      <td>Neighborville's Notice of Claim</td>\n",
       "      <td>Plaintiff</td>\n",
       "      <td>Mr. Counter</td>\n",
       "      <td>Neighborville provided reasonable notice to th...</td>\n",
       "    </tr>\n",
       "    <tr>\n",
       "      <th>22</th>\n",
       "      <td>Factors for Reasonable Notice Determination</td>\n",
       "      <td>Plaintiff</td>\n",
       "      <td>Mr. Counter</td>\n",
       "      <td>The Illinois Supreme Court has identified five...</td>\n",
       "    </tr>\n",
       "    <tr>\n",
       "      <th>23</th>\n",
       "      <td>Noise Disturbance in Courtroom</td>\n",
       "      <td>Neutral</td>\n",
       "      <td>Your Honor</td>\n",
       "      <td>The judge addressed a noise disturbance in the...</td>\n",
       "    </tr>\n",
       "    <tr>\n",
       "      <th>24</th>\n",
       "      <td>Timeliness of Notice</td>\n",
       "      <td>Plaintiff</td>\n",
       "      <td>Naperville</td>\n",
       "      <td>Illinois courts require notice within a reason...</td>\n",
       "    </tr>\n",
       "    <tr>\n",
       "      <th>25</th>\n",
       "      <td>Insured's Sophistication</td>\n",
       "      <td>Plaintiff</td>\n",
       "      <td>Naperville</td>\n",
       "      <td>The standard for determining an insured's soph...</td>\n",
       "    </tr>\n",
       "    <tr>\n",
       "      <th>26</th>\n",
       "      <td>Awareness of Occurrence</td>\n",
       "      <td>Plaintiff</td>\n",
       "      <td>Naperville</td>\n",
       "      <td>Naperville was not aware of the continuous dam...</td>\n",
       "    </tr>\n",
       "    <tr>\n",
       "      <th>27</th>\n",
       "      <td>Prejudice to Defendants</td>\n",
       "      <td>Plaintiff</td>\n",
       "      <td>Naperville</td>\n",
       "      <td>Defendants have not shown how they were prejud...</td>\n",
       "    </tr>\n",
       "    <tr>\n",
       "      <th>28</th>\n",
       "      <td>Request for Reversal</td>\n",
       "      <td>Plaintiff</td>\n",
       "      <td>Naperville</td>\n",
       "      <td>Naperville requests the court to reverse the t...</td>\n",
       "    </tr>\n",
       "    <tr>\n",
       "      <th>29</th>\n",
       "      <td>Insurance Coverage Period</td>\n",
       "      <td>Defense</td>\n",
       "      <td>Mr. Cheryl</td>\n",
       "      <td>Liberty Mutual Insurance company only insured ...</td>\n",
       "    </tr>\n",
       "    <tr>\n",
       "      <th>30</th>\n",
       "      <td>Nature of Loss</td>\n",
       "      <td>Defense</td>\n",
       "      <td>Mr. Cheryl</td>\n",
       "      <td>The loss was not continuous but consisted of d...</td>\n",
       "    </tr>\n",
       "    <tr>\n",
       "      <th>31</th>\n",
       "      <td>Specific Incidents of Water Damage</td>\n",
       "      <td>Defense</td>\n",
       "      <td>Mr. Cheryl</td>\n",
       "      <td>On October 11, 2017, and from October 14, 2017...</td>\n",
       "    </tr>\n",
       "    <tr>\n",
       "      <th>32</th>\n",
       "      <td>Notice of Loss</td>\n",
       "      <td>Defense</td>\n",
       "      <td>Unknown</td>\n",
       "      <td>The defense argues that the plaintiff failed t...</td>\n",
       "    </tr>\n",
       "    <tr>\n",
       "      <th>33</th>\n",
       "      <td>Applicability of Out-of-State Cases</td>\n",
       "      <td>Defense</td>\n",
       "      <td>Council</td>\n",
       "      <td>The defense points out that the out-of-state c...</td>\n",
       "    </tr>\n",
       "    <tr>\n",
       "      <th>34</th>\n",
       "      <td>Panoramic Case Analysis</td>\n",
       "      <td>Defense</td>\n",
       "      <td>Unknown</td>\n",
       "      <td>The defense analyzes the Panoramic case from W...</td>\n",
       "    </tr>\n",
       "    <tr>\n",
       "      <th>35</th>\n",
       "      <td>Strauss Case Analysis</td>\n",
       "      <td>Defense</td>\n",
       "      <td>Unknown</td>\n",
       "      <td>The defense distinguishes the Strauss case fro...</td>\n",
       "    </tr>\n",
       "    <tr>\n",
       "      <th>36</th>\n",
       "      <td>Waiver and Estoppel</td>\n",
       "      <td>Defense</td>\n",
       "      <td>Unknown</td>\n",
       "      <td>The defense argues that there is no obligation...</td>\n",
       "    </tr>\n",
       "    <tr>\n",
       "      <th>37</th>\n",
       "      <td>Investigation and Request for Additional Docum...</td>\n",
       "      <td>Defense</td>\n",
       "      <td>Unknown</td>\n",
       "      <td>The defense clarifies that during the investig...</td>\n",
       "    </tr>\n",
       "    <tr>\n",
       "      <th>38</th>\n",
       "      <td>Case Dismissal and Pleadings</td>\n",
       "      <td>Defense</td>\n",
       "      <td>Howard Fishman</td>\n",
       "      <td>The case was dismissed on the pleadings with t...</td>\n",
       "    </tr>\n",
       "    <tr>\n",
       "      <th>39</th>\n",
       "      <td>Allegations of Rain Damage</td>\n",
       "      <td>Defense</td>\n",
       "      <td>Howard Fishman</td>\n",
       "      <td>The complaint details continuous rain penetrat...</td>\n",
       "    </tr>\n",
       "    <tr>\n",
       "      <th>40</th>\n",
       "      <td>Notice of Damage to Insurer</td>\n",
       "      <td>Defense</td>\n",
       "      <td>Howard Fishman</td>\n",
       "      <td>The hotel failed to provide notice to Fireman'...</td>\n",
       "    </tr>\n",
       "    <tr>\n",
       "      <th>41</th>\n",
       "      <td>Nature of Damage</td>\n",
       "      <td>Defense</td>\n",
       "      <td>Howard Fishman</td>\n",
       "      <td>The water damage was not latent but readily ap...</td>\n",
       "    </tr>\n",
       "    <tr>\n",
       "      <th>42</th>\n",
       "      <td>Interpretation of Insurance Policy</td>\n",
       "      <td>Defense</td>\n",
       "      <td>Unknown</td>\n",
       "      <td>The argument emphasizes that insurance policie...</td>\n",
       "    </tr>\n",
       "    <tr>\n",
       "      <th>43</th>\n",
       "      <td>Reasonableness of Notice</td>\n",
       "      <td>Defense</td>\n",
       "      <td>Unknown</td>\n",
       "      <td>The defense argues that a 41-month delay in no...</td>\n",
       "    </tr>\n",
       "    <tr>\n",
       "      <th>44</th>\n",
       "      <td>Diligence and Actionable Occurrence</td>\n",
       "      <td>Defense</td>\n",
       "      <td>Unknown</td>\n",
       "      <td>The defense contends that the plaintiff's clai...</td>\n",
       "    </tr>\n",
       "    <tr>\n",
       "      <th>45</th>\n",
       "      <td>Late Notice and Prejudice</td>\n",
       "      <td>Defense</td>\n",
       "      <td>Unknown</td>\n",
       "      <td>The court rejects the policy holder's focus on...</td>\n",
       "    </tr>\n",
       "    <tr>\n",
       "      <th>46</th>\n",
       "      <td>Two Year Suit Limitation</td>\n",
       "      <td>Defense</td>\n",
       "      <td>Unknown</td>\n",
       "      <td>The argument is made that the suit was filed w...</td>\n",
       "    </tr>\n",
       "    <tr>\n",
       "      <th>47</th>\n",
       "      <td>Actual Knowledge and Suit Limitation</td>\n",
       "      <td>Defense</td>\n",
       "      <td>Unknown</td>\n",
       "      <td>Actual knowledge is argued to trigger the suit...</td>\n",
       "    </tr>\n",
       "    <tr>\n",
       "      <th>48</th>\n",
       "      <td>Suit Limitation Clause</td>\n",
       "      <td>Defense</td>\n",
       "      <td>Mr. Fishman</td>\n",
       "      <td>Argued for the affirmation of the trial court'...</td>\n",
       "    </tr>\n",
       "    <tr>\n",
       "      <th>49</th>\n",
       "      <td>Policy Language and Reasonableness</td>\n",
       "      <td>Plaintiff</td>\n",
       "      <td>Mr. Conner</td>\n",
       "      <td>Highlighted the importance of policy language ...</td>\n",
       "    </tr>\n",
       "    <tr>\n",
       "      <th>50</th>\n",
       "      <td>Continuous Loss</td>\n",
       "      <td>Plaintiff</td>\n",
       "      <td>Mr. Conner</td>\n",
       "      <td>Addressed the issue of continuous loss and the...</td>\n",
       "    </tr>\n",
       "    <tr>\n",
       "      <th>51</th>\n",
       "      <td>Assessment of Damage</td>\n",
       "      <td>Plaintiff</td>\n",
       "      <td>None</td>\n",
       "      <td>The policyholder was able to assess the total ...</td>\n",
       "    </tr>\n",
       "    <tr>\n",
       "      <th>52</th>\n",
       "      <td>Definition of Damage</td>\n",
       "      <td>Plaintiff</td>\n",
       "      <td>None</td>\n",
       "      <td>Argues that water intrusion is not considered ...</td>\n",
       "    </tr>\n",
       "    <tr>\n",
       "      <th>53</th>\n",
       "      <td>Statute of Limitations Trigger</td>\n",
       "      <td>Plaintiff</td>\n",
       "      <td>None</td>\n",
       "      <td>Multiple incidents of water intrusion over fiv...</td>\n",
       "    </tr>\n",
       "    <tr>\n",
       "      <th>54</th>\n",
       "      <td>Reservation of Rights Letter</td>\n",
       "      <td>Plaintiff</td>\n",
       "      <td>None</td>\n",
       "      <td>Liberty Mutual failed to include the statute o...</td>\n",
       "    </tr>\n",
       "    <tr>\n",
       "      <th>55</th>\n",
       "      <td>Investigation Post-Statute of Limitations</td>\n",
       "      <td>Plaintiff</td>\n",
       "      <td>None</td>\n",
       "      <td>Liberty Mutual continued to investigate the cl...</td>\n",
       "    </tr>\n",
       "    <tr>\n",
       "      <th>56</th>\n",
       "      <td>41-Month Delay</td>\n",
       "      <td>Plaintiff</td>\n",
       "      <td>None</td>\n",
       "      <td>Clarifies that there was no 41-month delay in ...</td>\n",
       "    </tr>\n",
       "    <tr>\n",
       "      <th>57</th>\n",
       "      <td>Conclusion of Questioning</td>\n",
       "      <td>Defense</td>\n",
       "      <td>Unknown</td>\n",
       "      <td>No further questions for Mr. Connor, acknowled...</td>\n",
       "    </tr>\n",
       "    <tr>\n",
       "      <th>58</th>\n",
       "      <td>Deliberation</td>\n",
       "      <td>Court</td>\n",
       "      <td>Unknown</td>\n",
       "      <td>The court thanks the participants for their ar...</td>\n",
       "    </tr>\n",
       "  </tbody>\n",
       "</table>\n",
       "</div>"
      ],
      "text/plain": [
       "                                                topic       side  \\\n",
       "0                              Statute of Limitations  Plaintiff   \n",
       "1                     Estoppel of Limitations Defense  Plaintiff   \n",
       "2                            Adequate Notice of Claim  Plaintiff   \n",
       "3                   Interpretation of Policy Language  Plaintiff   \n",
       "4          Policy Language on Physical Loss or Damage  Plaintiff   \n",
       "5                       Contractual Limitation Period    Defense   \n",
       "6                      Policy Language Interpretation  Plaintiff   \n",
       "7                        Insurance Benefit Protection  Plaintiff   \n",
       "8                              Statute of Limitations  Plaintiff   \n",
       "9                 Policy Language and Claim Assertion  Plaintiff   \n",
       "10                                 Definition of Loss  Plaintiff   \n",
       "11                   Policy Language on Filing Claims  Plaintiff   \n",
       "12                        Definition of Direct Damage    Defense   \n",
       "13                    Internal Statute of Limitations  Plaintiff   \n",
       "14                    Internal Statute of Limitations    Defense   \n",
       "15         Estoppel of Statute of Limitations Defense  Plaintiff   \n",
       "16                     Acknowledgment of Active Claim  Plaintiff   \n",
       "17              Statute of Limitations Defense Waiver  Plaintiff   \n",
       "18                       Reservation of Rights Letter  Plaintiff   \n",
       "19            Estoppel on Statute Limitations Defense  Plaintiff   \n",
       "20                     Statute of Limitations Defense    Defense   \n",
       "21                    Neighborville's Notice of Claim  Plaintiff   \n",
       "22        Factors for Reasonable Notice Determination  Plaintiff   \n",
       "23                     Noise Disturbance in Courtroom    Neutral   \n",
       "24                               Timeliness of Notice  Plaintiff   \n",
       "25                           Insured's Sophistication  Plaintiff   \n",
       "26                            Awareness of Occurrence  Plaintiff   \n",
       "27                            Prejudice to Defendants  Plaintiff   \n",
       "28                               Request for Reversal  Plaintiff   \n",
       "29                          Insurance Coverage Period    Defense   \n",
       "30                                     Nature of Loss    Defense   \n",
       "31                 Specific Incidents of Water Damage    Defense   \n",
       "32                                     Notice of Loss    Defense   \n",
       "33                Applicability of Out-of-State Cases    Defense   \n",
       "34                            Panoramic Case Analysis    Defense   \n",
       "35                              Strauss Case Analysis    Defense   \n",
       "36                                Waiver and Estoppel    Defense   \n",
       "37  Investigation and Request for Additional Docum...    Defense   \n",
       "38                       Case Dismissal and Pleadings    Defense   \n",
       "39                         Allegations of Rain Damage    Defense   \n",
       "40                        Notice of Damage to Insurer    Defense   \n",
       "41                                   Nature of Damage    Defense   \n",
       "42                 Interpretation of Insurance Policy    Defense   \n",
       "43                           Reasonableness of Notice    Defense   \n",
       "44                Diligence and Actionable Occurrence    Defense   \n",
       "45                          Late Notice and Prejudice    Defense   \n",
       "46                           Two Year Suit Limitation    Defense   \n",
       "47               Actual Knowledge and Suit Limitation    Defense   \n",
       "48                             Suit Limitation Clause    Defense   \n",
       "49                 Policy Language and Reasonableness  Plaintiff   \n",
       "50                                    Continuous Loss  Plaintiff   \n",
       "51                               Assessment of Damage  Plaintiff   \n",
       "52                               Definition of Damage  Plaintiff   \n",
       "53                     Statute of Limitations Trigger  Plaintiff   \n",
       "54                       Reservation of Rights Letter  Plaintiff   \n",
       "55          Investigation Post-Statute of Limitations  Plaintiff   \n",
       "56                                     41-Month Delay  Plaintiff   \n",
       "57                          Conclusion of Questioning    Defense   \n",
       "58                                       Deliberation      Court   \n",
       "\n",
       "                    person                                            summary  \n",
       "0             Colin Connor  The internal statute of limitations should beg...  \n",
       "1             Colin Connor  The defense should be estopped from asserting ...  \n",
       "2             Colin Connor      Naperville gave adequate notice of its claim.  \n",
       "3             Colin Connor  Illinois law favors policyholders, and the rea...  \n",
       "4             Colin Connor  The insurers' policies do not clearly state wh...  \n",
       "5                  Strauss  The policy required that suit be filed within ...  \n",
       "6      Pinar Amicase Court  After a loss occurs is fundamentally different...  \n",
       "7   Midwest Dairy Products  A policyholder should not be deprived of the b...  \n",
       "8               Naperville  The damage occurred until at least April 30, 2...  \n",
       "9                  Counsel  According to the policy language, you get to w...  \n",
       "10                 Council  Argues that the loss is the cumulative effect ...  \n",
       "11                 Council  Claims that the policy does not explicitly sta...  \n",
       "12              Mr. Conner  Discusses the meaning of 'direct damage' in th...  \n",
       "13              Naperville  Naperville argues that the internal statute of...  \n",
       "14              Defendants  Defendants argue that the internal statute of ...  \n",
       "15              Naperville  Naperville contends that defendants are estopp...  \n",
       "16              Naperville  Naperville argues that by communicating with t...  \n",
       "17              Naperville  Liberty Mutual waived the statute of limitatio...  \n",
       "18              Naperville  Liberty Mutual is precluded from relying on th...  \n",
       "19              Naperville  Firemen's Fund is estopped from asserting the ...  \n",
       "20             Mr. Counter  The defense's statute of limitations argument ...  \n",
       "21             Mr. Counter  Neighborville provided reasonable notice to th...  \n",
       "22             Mr. Counter  The Illinois Supreme Court has identified five...  \n",
       "23              Your Honor  The judge addressed a noise disturbance in the...  \n",
       "24              Naperville  Illinois courts require notice within a reason...  \n",
       "25              Naperville  The standard for determining an insured's soph...  \n",
       "26              Naperville  Naperville was not aware of the continuous dam...  \n",
       "27              Naperville  Defendants have not shown how they were prejud...  \n",
       "28              Naperville  Naperville requests the court to reverse the t...  \n",
       "29              Mr. Cheryl  Liberty Mutual Insurance company only insured ...  \n",
       "30              Mr. Cheryl  The loss was not continuous but consisted of d...  \n",
       "31              Mr. Cheryl  On October 11, 2017, and from October 14, 2017...  \n",
       "32                 Unknown  The defense argues that the plaintiff failed t...  \n",
       "33                 Council  The defense points out that the out-of-state c...  \n",
       "34                 Unknown  The defense analyzes the Panoramic case from W...  \n",
       "35                 Unknown  The defense distinguishes the Strauss case fro...  \n",
       "36                 Unknown  The defense argues that there is no obligation...  \n",
       "37                 Unknown  The defense clarifies that during the investig...  \n",
       "38          Howard Fishman  The case was dismissed on the pleadings with t...  \n",
       "39          Howard Fishman  The complaint details continuous rain penetrat...  \n",
       "40          Howard Fishman  The hotel failed to provide notice to Fireman'...  \n",
       "41          Howard Fishman  The water damage was not latent but readily ap...  \n",
       "42                 Unknown  The argument emphasizes that insurance policie...  \n",
       "43                 Unknown  The defense argues that a 41-month delay in no...  \n",
       "44                 Unknown  The defense contends that the plaintiff's clai...  \n",
       "45                 Unknown  The court rejects the policy holder's focus on...  \n",
       "46                 Unknown  The argument is made that the suit was filed w...  \n",
       "47                 Unknown  Actual knowledge is argued to trigger the suit...  \n",
       "48             Mr. Fishman  Argued for the affirmation of the trial court'...  \n",
       "49              Mr. Conner  Highlighted the importance of policy language ...  \n",
       "50              Mr. Conner  Addressed the issue of continuous loss and the...  \n",
       "51                    None  The policyholder was able to assess the total ...  \n",
       "52                    None  Argues that water intrusion is not considered ...  \n",
       "53                    None  Multiple incidents of water intrusion over fiv...  \n",
       "54                    None  Liberty Mutual failed to include the statute o...  \n",
       "55                    None  Liberty Mutual continued to investigate the cl...  \n",
       "56                    None  Clarifies that there was no 41-month delay in ...  \n",
       "57                 Unknown  No further questions for Mr. Connor, acknowled...  \n",
       "58                 Unknown  The court thanks the participants for their ar...  "
      ]
     },
     "execution_count": 147,
     "metadata": {},
     "output_type": "execute_result"
    }
   ],
   "source": [
    "print(f\"Shape of arguments df: {df_arguments.shape}\")\n",
    "df_arguments"
   ]
  },
  {
   "cell_type": "code",
   "execution_count": 148,
   "metadata": {},
   "outputs": [
    {
     "data": {
      "text/plain": [
       "person\n",
       "Unknown                   13\n",
       "Naperville                12\n",
       "Colin Connor               5\n",
       "Howard Fishman             4\n",
       "Council                    3\n",
       "Mr. Conner                 3\n",
       "Mr. Counter                3\n",
       "Mr. Cheryl                 3\n",
       "Strauss                    1\n",
       "Pinar Amicase Court        1\n",
       "Midwest Dairy Products     1\n",
       "Counsel                    1\n",
       "Defendants                 1\n",
       "Your Honor                 1\n",
       "Mr. Fishman                1\n",
       "Name: count, dtype: int64"
      ]
     },
     "execution_count": 148,
     "metadata": {},
     "output_type": "execute_result"
    }
   ],
   "source": [
    "df_arguments.person.value_counts()"
   ]
  },
  {
   "cell_type": "code",
   "execution_count": 149,
   "metadata": {},
   "outputs": [
    {
     "data": {
      "text/markdown": [
       "person='Colin Connor' role='Counsel' background='Representative for the Appalines'"
      ],
      "text/plain": [
       "<IPython.core.display.Markdown object>"
      ]
     },
     "metadata": {},
     "output_type": "display_data"
    },
    {
     "data": {
      "text/markdown": [
       "person='Naperville Hotel Partners, LLC' role='Plaintiff' background='One of the Appalines in the case'"
      ],
      "text/plain": [
       "<IPython.core.display.Markdown object>"
      ]
     },
     "metadata": {},
     "output_type": "display_data"
    },
    {
     "data": {
      "text/markdown": [
       "person='Superhost Hospitality Incorporated' role='Plaintiff' background='One of the Appalines in the case'"
      ],
      "text/plain": [
       "<IPython.core.display.Markdown object>"
      ]
     },
     "metadata": {},
     "output_type": "display_data"
    },
    {
     "data": {
      "text/markdown": [
       "person='Liberty Mutual Fire Insurance Company' role='Defendant' background='One of the Appalies in the case'"
      ],
      "text/plain": [
       "<IPython.core.display.Markdown object>"
      ]
     },
     "metadata": {},
     "output_type": "display_data"
    },
    {
     "data": {
      "text/markdown": [
       "person=\"Firemen's Fund Insurance Company\" role='Defendant' background='One of the Appalies in the case'"
      ],
      "text/plain": [
       "<IPython.core.display.Markdown object>"
      ]
     },
     "metadata": {},
     "output_type": "display_data"
    },
    {
     "data": {
      "text/markdown": [
       "person='Strauss' role='Plaintiff' background='Involved in a case regarding the timing of filing a suit after a loss occurs.'"
      ],
      "text/plain": [
       "<IPython.core.display.Markdown object>"
      ]
     },
     "metadata": {},
     "output_type": "display_data"
    },
    {
     "data": {
      "text/markdown": [
       "person='Pinar Amicase Court' role='Court' background='Analyzed the issue of policy terms regarding the inception of a loss.'"
      ],
      "text/plain": [
       "<IPython.core.display.Markdown object>"
      ]
     },
     "metadata": {},
     "output_type": "display_data"
    },
    {
     "data": {
      "text/markdown": [
       "person='Midwest Dairy Products' role='Referenced Entity' background='Illinois Supreme Court case cited for the principle that policyholders should not be deprived of insurance benefits unless policy terms are clear and explicit.'"
      ],
      "text/plain": [
       "<IPython.core.display.Markdown object>"
      ]
     },
     "metadata": {},
     "output_type": "display_data"
    },
    {
     "data": {
      "text/markdown": [
       "person=\"Defendant's agent\" role='Agent' background='Listed the period of exposure on the loss notice form.'"
      ],
      "text/plain": [
       "<IPython.core.display.Markdown object>"
      ]
     },
     "metadata": {},
     "output_type": "display_data"
    },
    {
     "data": {
      "text/markdown": [
       "person='Naperville' role='Plaintiff' background='Filed an action before the statute of limitations expired.'"
      ],
      "text/plain": [
       "<IPython.core.display.Markdown object>"
      ]
     },
     "metadata": {},
     "output_type": "display_data"
    },
    {
     "data": {
      "text/markdown": [
       "person='Counsel' role='Legal Representative' background='Arguing on behalf of the plaintiff regarding the policy language and timing to assert a claim.'"
      ],
      "text/plain": [
       "<IPython.core.display.Markdown object>"
      ]
     },
     "metadata": {},
     "output_type": "display_data"
    },
    {
     "data": {
      "text/markdown": [
       "person='Council' role='Attorney' background=\"Represents the plaintiff in the case, discussing the definition of 'loss' in the context of an insurance policy.\""
      ],
      "text/plain": [
       "<IPython.core.display.Markdown object>"
      ]
     },
     "metadata": {},
     "output_type": "display_data"
    },
    {
     "data": {
      "text/markdown": [
       "person='Your Honor' role='Judge' background='Presiding over the case, asking questions to clarify the arguments presented by the attorneys.'"
      ],
      "text/plain": [
       "<IPython.core.display.Markdown object>"
      ]
     },
     "metadata": {},
     "output_type": "display_data"
    },
    {
     "data": {
      "text/markdown": [
       "person='Mr. Conner' role='Attorney' background=\"Represents the defense, discussing the policy language and the definition of 'direct damage'.\""
      ],
      "text/plain": [
       "<IPython.core.display.Markdown object>"
      ]
     },
     "metadata": {},
     "output_type": "display_data"
    },
    {
     "data": {
      "text/markdown": [
       "person='Naperville' role='Plaintiff' background='Naperville is arguing that the internal statute of limitations should run from the end of the damage and that they complied with it by filing suit less than two years after the end of the damage.'"
      ],
      "text/plain": [
       "<IPython.core.display.Markdown object>"
      ]
     },
     "metadata": {},
     "output_type": "display_data"
    },
    {
     "data": {
      "text/markdown": [
       "person='Defendants' role='Defense' background='Defendants cited cases with different internal statute of limitations and argue that Naperville did not comply with the statute of limitations.'"
      ],
      "text/plain": [
       "<IPython.core.display.Markdown object>"
      ]
     },
     "metadata": {},
     "output_type": "display_data"
    },
    {
     "data": {
      "text/markdown": [
       "person='Liberty Mutual' role='Defendant' background='Liberty Mutual is mentioned in the context of the statute of limitations defense, implying they are one of the defendants.'"
      ],
      "text/plain": [
       "<IPython.core.display.Markdown object>"
      ]
     },
     "metadata": {},
     "output_type": "display_data"
    },
    {
     "data": {
      "text/markdown": [
       "person='Liberty Mutual' role='Defense' background='Insurance company involved in a dispute over statute of limitations and reservation of rights.'"
      ],
      "text/plain": [
       "<IPython.core.display.Markdown object>"
      ]
     },
     "metadata": {},
     "output_type": "display_data"
    },
    {
     "data": {
      "text/markdown": [
       "person='Naperville' role='Plaintiff' background='Party claiming against Liberty Mutual, affected by the statute of limitations issue.'"
      ],
      "text/plain": [
       "<IPython.core.display.Markdown object>"
      ]
     },
     "metadata": {},
     "output_type": "display_data"
    },
    {
     "data": {
      "text/markdown": [
       "person=\"Firemen's Fund\" role='Defense' background='Insurance company similar to Liberty Mutual, involved in a statute of limitations dispute.'"
      ],
      "text/plain": [
       "<IPython.core.display.Markdown object>"
      ]
     },
     "metadata": {},
     "output_type": "display_data"
    },
    {
     "data": {
      "text/markdown": [
       "person='Mr. Counter' role='Attorney' background=\"Presenting arguments regarding Neighborville's insurance claim and notice of loss.\""
      ],
      "text/plain": [
       "<IPython.core.display.Markdown object>"
      ]
     },
     "metadata": {},
     "output_type": "display_data"
    },
    {
     "data": {
      "text/markdown": [
       "person='Your Honor' role='Judge' background='Presiding over the case and addressing a noise disturbance in the courtroom.'"
      ],
      "text/plain": [
       "<IPython.core.display.Markdown object>"
      ]
     },
     "metadata": {},
     "output_type": "display_data"
    },
    {
     "data": {
      "text/markdown": [
       "person='Naperville' role='Plaintiff' background='Naperville is in the hotel business and does not have education or experience in the insurance industry.'"
      ],
      "text/plain": [
       "<IPython.core.display.Markdown object>"
      ]
     },
     "metadata": {},
     "output_type": "display_data"
    },
    {
     "data": {
      "text/markdown": [
       "person='Defendants' role='Defense' background='Defendants have not described or proved how they have been prejudiced by the late notice.'"
      ],
      "text/plain": [
       "<IPython.core.display.Markdown object>"
      ]
     },
     "metadata": {},
     "output_type": "display_data"
    },
    {
     "data": {
      "text/markdown": [
       "person='Mr. Connor' role='Speaker' background='A person who was asked questions during the oral argument.'"
      ],
      "text/plain": [
       "<IPython.core.display.Markdown object>"
      ]
     },
     "metadata": {},
     "output_type": "display_data"
    },
    {
     "data": {
      "text/markdown": [
       "person='Mr. Cheryl' role='Speaker' background='Represents Liberty Mutual Insurance company.'"
      ],
      "text/plain": [
       "<IPython.core.display.Markdown object>"
      ]
     },
     "metadata": {},
     "output_type": "display_data"
    },
    {
     "data": {
      "text/markdown": [
       "person='Council' role='Attorney' background='Cites two out-of-state cases that are not applicable to the current case in Illinois.'"
      ],
      "text/plain": [
       "<IPython.core.display.Markdown object>"
      ]
     },
     "metadata": {},
     "output_type": "display_data"
    },
    {
     "data": {
      "text/markdown": [
       "person='Mr. Jeffrey Youngerman' role='Lawyer' background='Represented the insured in the summer of 2019.'"
      ],
      "text/plain": [
       "<IPython.core.display.Markdown object>"
      ]
     },
     "metadata": {},
     "output_type": "display_data"
    },
    {
     "data": {
      "text/markdown": [
       "person='Mr. Shirley' role='Unknown' background=None"
      ],
      "text/plain": [
       "<IPython.core.display.Markdown object>"
      ]
     },
     "metadata": {},
     "output_type": "display_data"
    },
    {
     "data": {
      "text/markdown": [
       "person='Howard Fishman' role='Attorney' background=\"Represents the other defendant at the Lee Fireman's fund.\""
      ],
      "text/plain": [
       "<IPython.core.display.Markdown object>"
      ]
     },
     "metadata": {},
     "output_type": "display_data"
    },
    {
     "data": {
      "text/markdown": [
       "person='Mr. Conor' role='Unknown' background=None"
      ],
      "text/plain": [
       "<IPython.core.display.Markdown object>"
      ]
     },
     "metadata": {},
     "output_type": "display_data"
    },
    {
     "data": {
      "text/markdown": [
       "person='Justice McTayden' role='Justice' background=None"
      ],
      "text/plain": [
       "<IPython.core.display.Markdown object>"
      ]
     },
     "metadata": {},
     "output_type": "display_data"
    },
    {
     "data": {
      "text/markdown": [
       "person='LaVore C' role='Case Reference' background='A case cited for the proposition of interpreting insurance policies.'"
      ],
      "text/plain": [
       "<IPython.core.display.Markdown object>"
      ]
     },
     "metadata": {},
     "output_type": "display_data"
    },
    {
     "data": {
      "text/markdown": [
       "person='Central Illinois Light' role='Case Reference' background='A Supreme Court case cited for the interpretation of insurance policies.'"
      ],
      "text/plain": [
       "<IPython.core.display.Markdown object>"
      ]
     },
     "metadata": {},
     "output_type": "display_data"
    },
    {
     "data": {
      "text/markdown": [
       "person='Mr. Shirley' role='Attorney' background=\"An attorney who brought up the insurance coverage attorney's statement in the record.\""
      ],
      "text/plain": [
       "<IPython.core.display.Markdown object>"
      ]
     },
     "metadata": {},
     "output_type": "display_data"
    },
    {
     "data": {
      "text/markdown": [
       "person='Breckenridge' role='Policy Holder' background='Argues that the focus should be on whether a claim existed after producing damage estimates.'"
      ],
      "text/plain": [
       "<IPython.core.display.Markdown object>"
      ]
     },
     "metadata": {},
     "output_type": "display_data"
    },
    {
     "data": {
      "text/markdown": [
       "person=\"Fireman's Fund\" role='Insurance Company' background='Prejudiced due to late notice of the claim, deprived of the opportunity to investigate and address the loss.'"
      ],
      "text/plain": [
       "<IPython.core.display.Markdown object>"
      ]
     },
     "metadata": {},
     "output_type": "display_data"
    },
    {
     "data": {
      "text/markdown": [
       "person='Mr. Conner' role='Counsel' background='References an internal statute of limitations and argues for a contractual provision as a condition preceding to coverage.'"
      ],
      "text/plain": [
       "<IPython.core.display.Markdown object>"
      ]
     },
     "metadata": {},
     "output_type": "display_data"
    },
    {
     "data": {
      "text/markdown": [
       "person='Mr. Fishman' role='Attorney' background=\"Presented arguments for affirming the trial court's decision.\""
      ],
      "text/plain": [
       "<IPython.core.display.Markdown object>"
      ]
     },
     "metadata": {},
     "output_type": "display_data"
    },
    {
     "data": {
      "text/markdown": [
       "person='Mr. Conner' role='Attorney' background='Presented rebuttal arguments focusing on policy language and reasonableness.'"
      ],
      "text/plain": [
       "<IPython.core.display.Markdown object>"
      ]
     },
     "metadata": {},
     "output_type": "display_data"
    },
    {
     "data": {
      "text/markdown": [
       "person='Unknown' role='Counsel' background='Arguing on behalf of the policyholder against Liberty Mutual regarding the statute of limitations and notice provisions in an insurance claim.'"
      ],
      "text/plain": [
       "<IPython.core.display.Markdown object>"
      ]
     },
     "metadata": {},
     "output_type": "display_data"
    },
    {
     "data": {
      "text/markdown": [
       "person='Mr. Connor' role='Witness' background=None"
      ],
      "text/plain": [
       "<IPython.core.display.Markdown object>"
      ]
     },
     "metadata": {},
     "output_type": "display_data"
    }
   ],
   "source": [
    "for i in range(len(res_docs)):\n",
    "    for j in range(len(res_docs[i].parties)):\n",
    "        display(Markdown(f\"{res_docs[i].parties[j]}\"))"
   ]
  },
  {
   "cell_type": "code",
   "execution_count": 150,
   "metadata": {},
   "outputs": [
    {
     "data": {
      "text/markdown": [
       "topic='Statute of Limitations' side='Plaintiff' person='Colin Connor' summary=\"The internal statute of limitations should begin from the end of the injury, not the beginning, and Naperville's interpretation should govern.\""
      ],
      "text/plain": [
       "<IPython.core.display.Markdown object>"
      ]
     },
     "metadata": {},
     "output_type": "display_data"
    },
    {
     "data": {
      "text/markdown": [
       "topic='Estoppel of Limitations Defense' side='Plaintiff' person='Colin Connor' summary='The defense should be estopped from asserting their internal statute of limitations defense.'"
      ],
      "text/plain": [
       "<IPython.core.display.Markdown object>"
      ]
     },
     "metadata": {},
     "output_type": "display_data"
    },
    {
     "data": {
      "text/markdown": [
       "topic='Adequate Notice of Claim' side='Plaintiff' person='Colin Connor' summary='Naperville gave adequate notice of its claim.'"
      ],
      "text/plain": [
       "<IPython.core.display.Markdown object>"
      ]
     },
     "metadata": {},
     "output_type": "display_data"
    },
    {
     "data": {
      "text/markdown": [
       "topic='Interpretation of Policy Language' side='Plaintiff' person='Colin Connor' summary='Illinois law favors policyholders, and the reasonable interpretation of the policy language by Naperville regarding the statute of limitations should be accepted.'"
      ],
      "text/plain": [
       "<IPython.core.display.Markdown object>"
      ]
     },
     "metadata": {},
     "output_type": "display_data"
    },
    {
     "data": {
      "text/markdown": [
       "topic='Policy Language on Physical Loss or Damage' side='Plaintiff' person='Colin Connor' summary=\"The insurers' policies do not clearly state when the limitation period starts, and precedent suggests it runs from the conclusion of the loss.\""
      ],
      "text/plain": [
       "<IPython.core.display.Markdown object>"
      ]
     },
     "metadata": {},
     "output_type": "display_data"
    },
    {
     "data": {
      "text/markdown": [
       "topic='Contractual Limitation Period' side='Defense' person='Strauss' summary='The policy required that suit be filed within one year after a loss occurs. The seven-circuit held that the Strausses could have brought their claim at any point up until after the water infiltration damage halted.'"
      ],
      "text/plain": [
       "<IPython.core.display.Markdown object>"
      ]
     },
     "metadata": {},
     "output_type": "display_data"
    },
    {
     "data": {
      "text/markdown": [
       "topic='Policy Language Interpretation' side='Plaintiff' person='Pinar Amicase Court' summary='After a loss occurs is fundamentally different from after the inception of the loss. The inception of the loss means the beginning of damage, while after a loss occurs is ambiguous.'"
      ],
      "text/plain": [
       "<IPython.core.display.Markdown object>"
      ]
     },
     "metadata": {},
     "output_type": "display_data"
    },
    {
     "data": {
      "text/markdown": [
       "topic='Insurance Benefit Protection' side='Plaintiff' person='Midwest Dairy Products' summary='A policyholder should not be deprived of the benefit of insurance for which he has paid, except where the terms of the policy clearly, definitively, and explicitly required.'"
      ],
      "text/plain": [
       "<IPython.core.display.Markdown object>"
      ]
     },
     "metadata": {},
     "output_type": "display_data"
    },
    {
     "data": {
      "text/markdown": [
       "topic='Statute of Limitations' side='Plaintiff' person='Naperville' summary='The damage occurred until at least April 30, 2019. Thus, the statute of limitations did not expire until April 30, 2021. Naperville filed this action on April 26, 2021, before the statute of limitations expired.'"
      ],
      "text/plain": [
       "<IPython.core.display.Markdown object>"
      ]
     },
     "metadata": {},
     "output_type": "display_data"
    },
    {
     "data": {
      "text/markdown": [
       "topic='Policy Language and Claim Assertion' side='Plaintiff' person='Counsel' summary='According to the policy language, you get to wait until after the conclusion of the loss to assert your claim.'"
      ],
      "text/plain": [
       "<IPython.core.display.Markdown object>"
      ]
     },
     "metadata": {},
     "output_type": "display_data"
    },
    {
     "data": {
      "text/markdown": [
       "topic='Definition of Loss' side='Plaintiff' person='Council' summary='Argues that the loss is the cumulative effect of water damage to the hotel, not just a single event, and that the policy allows for a claim to be filed within two years after the cumulative loss occurred.'"
      ],
      "text/plain": [
       "<IPython.core.display.Markdown object>"
      ]
     },
     "metadata": {},
     "output_type": "display_data"
    },
    {
     "data": {
      "text/markdown": [
       "topic='Policy Language on Filing Claims' side='Plaintiff' person='Council' summary='Claims that the policy does not explicitly state that a claim must be filed within two years of the beginning of the loss, but rather after the loss occurred.'"
      ],
      "text/plain": [
       "<IPython.core.display.Markdown object>"
      ]
     },
     "metadata": {},
     "output_type": "display_data"
    },
    {
     "data": {
      "text/markdown": [
       "topic='Definition of Direct Damage' side='Defense' person='Mr. Conner' summary=\"Discusses the meaning of 'direct damage' in the policy and how it differs from other types of damage, also noting that the policy terms are not defined and that there is no case law supporting the plaintiff's interpretation of the internal statute of limitations.\""
      ],
      "text/plain": [
       "<IPython.core.display.Markdown object>"
      ]
     },
     "metadata": {},
     "output_type": "display_data"
    },
    {
     "data": {
      "text/markdown": [
       "topic='Internal Statute of Limitations' side='Plaintiff' person='Naperville' summary='Naperville argues that the internal statute of limitations should be interpreted in their favor, running from the end of the damage, and that they filed suit within this time frame.'"
      ],
      "text/plain": [
       "<IPython.core.display.Markdown object>"
      ]
     },
     "metadata": {},
     "output_type": "display_data"
    },
    {
     "data": {
      "text/markdown": [
       "topic='Internal Statute of Limitations' side='Defense' person='Defendants' summary='Defendants argue that the internal statute of limitations does not have a discovery trigger and requires filing suit within a certain time after the occurrence or inception of the loss.'"
      ],
      "text/plain": [
       "<IPython.core.display.Markdown object>"
      ]
     },
     "metadata": {},
     "output_type": "display_data"
    },
    {
     "data": {
      "text/markdown": [
       "topic='Estoppel of Statute of Limitations Defense' side='Plaintiff' person='Naperville' summary='Naperville contends that defendants are estopped from asserting their statute of limitations defense because their actions during negotiations caused Naperville to delay asserting its rights.'"
      ],
      "text/plain": [
       "<IPython.core.display.Markdown object>"
      ]
     },
     "metadata": {},
     "output_type": "display_data"
    },
    {
     "data": {
      "text/markdown": [
       "topic='Acknowledgment of Active Claim' side='Plaintiff' person='Naperville' summary='Naperville argues that by communicating with them before and after the alleged statute of limitations expired without mentioning it, defendants acknowledged the claim was still active and not barred by any statute of limitations.'"
      ],
      "text/plain": [
       "<IPython.core.display.Markdown object>"
      ]
     },
     "metadata": {},
     "output_type": "display_data"
    },
    {
     "data": {
      "text/markdown": [
       "topic='Statute of Limitations Defense Waiver' side='Plaintiff' person='Naperville' summary='Liberty Mutual waived the statute of limitations defense by conducting an inspection and requesting additional documents after the statute allegedly expired, and failing to inform Naperville about the internal statute limitations defense until after denying the claim.'"
      ],
      "text/plain": [
       "<IPython.core.display.Markdown object>"
      ]
     },
     "metadata": {},
     "output_type": "display_data"
    },
    {
     "data": {
      "text/markdown": [
       "topic='Reservation of Rights Letter' side='Plaintiff' person='Naperville' summary='Liberty Mutual is precluded from relying on the internal statute limitations defense because it did not specifically refer to this policy defense in its reservation of rights letter, as required by the Illinois Supreme Court.'"
      ],
      "text/plain": [
       "<IPython.core.display.Markdown object>"
      ]
     },
     "metadata": {},
     "output_type": "display_data"
    },
    {
     "data": {
      "text/markdown": [
       "topic='Estoppel on Statute Limitations Defense' side='Plaintiff' person='Naperville' summary=\"Firemen's Fund is estopped from asserting the internal statute limitations defense because it communicated with policyholders without mentioning the statute limitations, implying the claim was not barred.\""
      ],
      "text/plain": [
       "<IPython.core.display.Markdown object>"
      ]
     },
     "metadata": {},
     "output_type": "display_data"
    },
    {
     "data": {
      "text/markdown": [
       "topic='Statute of Limitations Defense' side='Defense' person='Mr. Counter' summary=\"The defense's statute of limitations argument is waived due to Firemen's actions after the expiration period.\""
      ],
      "text/plain": [
       "<IPython.core.display.Markdown object>"
      ]
     },
     "metadata": {},
     "output_type": "display_data"
    },
    {
     "data": {
      "text/markdown": [
       "topic=\"Neighborville's Notice of Claim\" side='Plaintiff' person='Mr. Counter' summary='Neighborville provided reasonable notice to the insurers in May 2019, which should not be dismissed at the pleading stage.'"
      ],
      "text/plain": [
       "<IPython.core.display.Markdown object>"
      ]
     },
     "metadata": {},
     "output_type": "display_data"
    },
    {
     "data": {
      "text/markdown": [
       "topic='Factors for Reasonable Notice Determination' side='Plaintiff' person='Mr. Counter' summary=\"The Illinois Supreme Court has identified five factors to consider for a reasonable notice determination, supporting the reversal of the trial court's dismissal.\""
      ],
      "text/plain": [
       "<IPython.core.display.Markdown object>"
      ]
     },
     "metadata": {},
     "output_type": "display_data"
    },
    {
     "data": {
      "text/markdown": [
       "topic='Noise Disturbance in Courtroom' side='Neutral' person='Your Honor' summary='The judge addressed a noise disturbance in the courtroom, which was resolved.'"
      ],
      "text/plain": [
       "<IPython.core.display.Markdown object>"
      ]
     },
     "metadata": {},
     "output_type": "display_data"
    },
    {
     "data": {
      "text/markdown": [
       "topic='Timeliness of Notice' side='Plaintiff' person='Naperville' summary='Illinois courts require notice within a reasonable time. Longer notice periods up to five years have been deemed reasonable. Naperville argues their notice was timely.'"
      ],
      "text/plain": [
       "<IPython.core.display.Markdown object>"
      ]
     },
     "metadata": {},
     "output_type": "display_data"
    },
    {
     "data": {
      "text/markdown": [
       "topic=\"Insured's Sophistication\" side='Plaintiff' person='Naperville' summary=\"The standard for determining an insured's sophistication is based on experience in commerce and insurance. Naperville, being in the hotel business without insurance experience, should not be considered sophisticated.\""
      ],
      "text/plain": [
       "<IPython.core.display.Markdown object>"
      ]
     },
     "metadata": {},
     "output_type": "display_data"
    },
    {
     "data": {
      "text/markdown": [
       "topic='Awareness of Occurrence' side='Plaintiff' person='Naperville' summary='Naperville was not aware of the continuous damage until 2019 and believed they were addressing discrete events. They reported the damage once they became aware.'"
      ],
      "text/plain": [
       "<IPython.core.display.Markdown object>"
      ]
     },
     "metadata": {},
     "output_type": "display_data"
    },
    {
     "data": {
      "text/markdown": [
       "topic='Prejudice to Defendants' side='Plaintiff' person='Naperville' summary='Defendants have not shown how they were prejudiced by the late notice, and actual prejudice is a fact question not suitable for determination at the motion to dismiss stage.'"
      ],
      "text/plain": [
       "<IPython.core.display.Markdown object>"
      ]
     },
     "metadata": {},
     "output_type": "display_data"
    },
    {
     "data": {
      "text/markdown": [
       "topic='Request for Reversal' side='Plaintiff' person='Naperville' summary=\"Naperville requests the court to reverse the trial court's order dismissing the case and to remand it for further proceedings.\""
      ],
      "text/plain": [
       "<IPython.core.display.Markdown object>"
      ]
     },
     "metadata": {},
     "output_type": "display_data"
    },
    {
     "data": {
      "text/markdown": [
       "topic='Insurance Coverage Period' side='Defense' person='Mr. Cheryl' summary='Liberty Mutual Insurance company only insured the hotel from September 15, 2017, to October 31, 2017. The policy was added as an endorsement later on.'"
      ],
      "text/plain": [
       "<IPython.core.display.Markdown object>"
      ]
     },
     "metadata": {},
     "output_type": "display_data"
    },
    {
     "data": {
      "text/markdown": [
       "topic='Nature of Loss' side='Defense' person='Mr. Cheryl' summary='The loss was not continuous but consisted of discrete incidents of water intrusion.'"
      ],
      "text/plain": [
       "<IPython.core.display.Markdown object>"
      ]
     },
     "metadata": {},
     "output_type": "display_data"
    },
    {
     "data": {
      "text/markdown": [
       "topic='Specific Incidents of Water Damage' side='Defense' person='Mr. Cheryl' summary=\"On October 11, 2017, and from October 14, 2017, to October 17, 2017, the hotel experienced water intrusion in various areas, which should have been reported to the insurance company within two years, but it wasn't.\""
      ],
      "text/plain": [
       "<IPython.core.display.Markdown object>"
      ]
     },
     "metadata": {},
     "output_type": "display_data"
    },
    {
     "data": {
      "text/markdown": [
       "topic='Notice of Loss' side='Defense' person='Unknown' summary='The defense argues that the plaintiff failed to provide timely notice of the loss, waiting 19 months to file suit, which is clearly too late.'"
      ],
      "text/plain": [
       "<IPython.core.display.Markdown object>"
      ]
     },
     "metadata": {},
     "output_type": "display_data"
    },
    {
     "data": {
      "text/markdown": [
       "topic='Applicability of Out-of-State Cases' side='Defense' person='Council' summary='The defense points out that the out-of-state cases cited by the plaintiff do not apply to the current case in Illinois.'"
      ],
      "text/plain": [
       "<IPython.core.display.Markdown object>"
      ]
     },
     "metadata": {},
     "output_type": "display_data"
    },
    {
     "data": {
      "text/markdown": [
       "topic='Panoramic Case Analysis' side='Defense' person='Unknown' summary='The defense analyzes the Panoramic case from Washington, highlighting differences with the current case, such as the policy coverage and the timing of the loss occurrence.'"
      ],
      "text/plain": [
       "<IPython.core.display.Markdown object>"
      ]
     },
     "metadata": {},
     "output_type": "display_data"
    },
    {
     "data": {
      "text/markdown": [
       "topic='Strauss Case Analysis' side='Defense' person='Unknown' summary='The defense distinguishes the Strauss case from Wisconsin from the current case, noting the timing of the notice of claim and the filing of the suit within the one-year period.'"
      ],
      "text/plain": [
       "<IPython.core.display.Markdown object>"
      ]
     },
     "metadata": {},
     "output_type": "display_data"
    },
    {
     "data": {
      "text/markdown": [
       "topic='Waiver and Estoppel' side='Defense' person='Unknown' summary='The defense argues that there is no obligation to repeatedly remind the insured of the suit limitation provision in every communication. They reference the foam craft case and Illinois law, stating that the insured cannot blame the insurance company for not reading the policy and discovering the requirements for bringing suit. The only relevant Illinois regulation mentioned is section 919.80, which requires the insurance company to specify the number of days tolled when denying coverage.'"
      ],
      "text/plain": [
       "<IPython.core.display.Markdown object>"
      ]
     },
     "metadata": {},
     "output_type": "display_data"
    },
    {
     "data": {
      "text/markdown": [
       "topic='Investigation and Request for Additional Documents' side='Defense' person='Unknown' summary='The defense clarifies that during the investigation in September, they were still unaware of when the suit limitation had expired. They also mention waiting for additional documents requested from the insured.'"
      ],
      "text/plain": [
       "<IPython.core.display.Markdown object>"
      ]
     },
     "metadata": {},
     "output_type": "display_data"
    },
    {
     "data": {
      "text/markdown": [
       "topic='Case Dismissal and Pleadings' side='Defense' person='Howard Fishman' summary=\"The case was dismissed on the pleadings with the third amended complaint being the operative pleading for the defendant. The hotel's fourth attempt to state a place failed, and the allegations in the complaint take them out of coverage.\""
      ],
      "text/plain": [
       "<IPython.core.display.Markdown object>"
      ]
     },
     "metadata": {},
     "output_type": "display_data"
    },
    {
     "data": {
      "text/markdown": [
       "topic='Allegations of Rain Damage' side='Defense' person='Howard Fishman' summary='The complaint details continuous rain penetration and damage since the hotel opened in July 2015. The damage is cumulative and continued through several years, which is significant for coverage periods.'"
      ],
      "text/plain": [
       "<IPython.core.display.Markdown object>"
      ]
     },
     "metadata": {},
     "output_type": "display_data"
    },
    {
     "data": {
      "text/markdown": [
       "topic='Notice of Damage to Insurer' side='Defense' person='Howard Fishman' summary=\"The hotel failed to provide notice to Fireman's fund until May 2019, despite the damage being apparent and continuous since 2015. The hotel's delay in providing notice is critical and distinguishes this case from others.\""
      ],
      "text/plain": [
       "<IPython.core.display.Markdown object>"
      ]
     },
     "metadata": {},
     "output_type": "display_data"
    },
    {
     "data": {
      "text/markdown": [
       "topic='Nature of Damage' side='Defense' person='Howard Fishman' summary='The water damage was not latent but readily apparent, which continued over the years and directly damaged the property.'"
      ],
      "text/plain": [
       "<IPython.core.display.Markdown object>"
      ]
     },
     "metadata": {},
     "output_type": "display_data"
    },
    {
     "data": {
      "text/markdown": [
       "topic='Interpretation of Insurance Policy' side='Defense' person='Unknown' summary=\"The argument emphasizes that insurance policies must be interpreted as a whole and according to established rules of construction. The defense argues that the plaintiff's interpretation is unreasonable and would lead to absurd results, such as allowing the plaintiff to delay action while damage continues.\""
      ],
      "text/plain": [
       "<IPython.core.display.Markdown object>"
      ]
     },
     "metadata": {},
     "output_type": "display_data"
    },
    {
     "data": {
      "text/markdown": [
       "topic='Reasonableness of Notice' side='Defense' person='Unknown' summary='The defense argues that a 41-month delay in notice is unreasonable. They reference the LaVore C factors, including the promptness of notice, the insurance sophistication of the parties, and awareness of the event triggering coverage.'"
      ],
      "text/plain": [
       "<IPython.core.display.Markdown object>"
      ]
     },
     "metadata": {},
     "output_type": "display_data"
    },
    {
     "data": {
      "text/markdown": [
       "topic='Diligence and Actionable Occurrence' side='Defense' person='Unknown' summary=\"The defense contends that the plaintiff's claim of diligence governed by an 'actionable occurrence' test has no support in Illinois law or the policy, and it was addressed and rejected in the Breckenridge case.\""
      ],
      "text/plain": [
       "<IPython.core.display.Markdown object>"
      ]
     },
     "metadata": {},
     "output_type": "display_data"
    },
    {
     "data": {
      "text/markdown": [
       "topic='Late Notice and Prejudice' side='Defense' person='Unknown' summary=\"The court rejects the policy holder's focus on claim existence and emphasizes the prejudice to the insurance company due to late notice.\""
      ],
      "text/plain": [
       "<IPython.core.display.Markdown object>"
      ]
     },
     "metadata": {},
     "output_type": "display_data"
    },
    {
     "data": {
      "text/markdown": [
       "topic='Two Year Suit Limitation' side='Defense' person='Unknown' summary='The argument is made that the suit was filed well beyond the two-year contractual limitation period, making it an unreasonable construction.'"
      ],
      "text/plain": [
       "<IPython.core.display.Markdown object>"
      ]
     },
     "metadata": {},
     "output_type": "display_data"
    },
    {
     "data": {
      "text/markdown": [
       "topic='Actual Knowledge and Suit Limitation' side='Defense' person='Unknown' summary='Actual knowledge is argued to trigger the suit limitation provision, supported by the Hoover and Pramer cases.'"
      ],
      "text/plain": [
       "<IPython.core.display.Markdown object>"
      ]
     },
     "metadata": {},
     "output_type": "display_data"
    },
    {
     "data": {
      "text/markdown": [
       "topic='Suit Limitation Clause' side='Defense' person='Mr. Fishman' summary=\"Argued for the affirmation of the trial court's decision based on the time limitation for providing reasonable notice and complying with the suit limitation clause.\""
      ],
      "text/plain": [
       "<IPython.core.display.Markdown object>"
      ]
     },
     "metadata": {},
     "output_type": "display_data"
    },
    {
     "data": {
      "text/markdown": [
       "topic='Policy Language and Reasonableness' side='Plaintiff' person='Mr. Conner' summary='Highlighted the importance of policy language drafted by insurers and the concept of reasonableness. Cited out-of-state cases interpreting similar language, which did not trigger statute limitations until the conclusion of the loss.'"
      ],
      "text/plain": [
       "<IPython.core.display.Markdown object>"
      ]
     },
     "metadata": {},
     "output_type": "display_data"
    },
    {
     "data": {
      "text/markdown": [
       "topic='Continuous Loss' side='Plaintiff' person='Mr. Conner' summary='Addressed the issue of continuous loss and the specific dates of loss listed in the complaint as examples, arguing that water intrusion damage can occur over time and may not always lead to immediate damage.'"
      ],
      "text/plain": [
       "<IPython.core.display.Markdown object>"
      ]
     },
     "metadata": {},
     "output_type": "display_data"
    },
    {
     "data": {
      "text/markdown": [
       "topic='Assessment of Damage' side='Plaintiff' person=None summary='The policyholder was able to assess the total extent of accumulated damage only in 2019.'"
      ],
      "text/plain": [
       "<IPython.core.display.Markdown object>"
      ]
     },
     "metadata": {},
     "output_type": "display_data"
    },
    {
     "data": {
      "text/markdown": [
       "topic='Definition of Damage' side='Plaintiff' person=None summary='Argues that water intrusion is not considered damage or loss; the actual damage is to the property and contents.'"
      ],
      "text/plain": [
       "<IPython.core.display.Markdown object>"
      ]
     },
     "metadata": {},
     "output_type": "display_data"
    },
    {
     "data": {
      "text/markdown": [
       "topic='Statute of Limitations Trigger' side='Plaintiff' person=None summary='Multiple incidents of water intrusion over five years do not trigger the statute of limitations or the notice provision.'"
      ],
      "text/plain": [
       "<IPython.core.display.Markdown object>"
      ]
     },
     "metadata": {},
     "output_type": "display_data"
    },
    {
     "data": {
      "text/markdown": [
       "topic='Reservation of Rights Letter' side='Plaintiff' person=None summary='Liberty Mutual failed to include the statute of limitations defense in their Reservation of Rights Letter, despite listing other policy defenses.'"
      ],
      "text/plain": [
       "<IPython.core.display.Markdown object>"
      ]
     },
     "metadata": {},
     "output_type": "display_data"
    },
    {
     "data": {
      "text/markdown": [
       "topic='Investigation Post-Statute of Limitations' side='Plaintiff' person=None summary='Liberty Mutual continued to investigate the claim and implied coverage even after the statute of limitations had allegedly expired.'"
      ],
      "text/plain": [
       "<IPython.core.display.Markdown object>"
      ]
     },
     "metadata": {},
     "output_type": "display_data"
    },
    {
     "data": {
      "text/markdown": [
       "topic='41-Month Delay' side='Plaintiff' person=None summary='Clarifies that there was no 41-month delay in providing notice as the cumulative effect of the loss was not determined until May 2019.'"
      ],
      "text/plain": [
       "<IPython.core.display.Markdown object>"
      ]
     },
     "metadata": {},
     "output_type": "display_data"
    },
    {
     "data": {
      "text/markdown": [
       "topic='Conclusion of Questioning' side='Defense' person='Unknown' summary='No further questions for Mr. Connor, acknowledgment of the end of the session for the day.'"
      ],
      "text/plain": [
       "<IPython.core.display.Markdown object>"
      ]
     },
     "metadata": {},
     "output_type": "display_data"
    },
    {
     "data": {
      "text/markdown": [
       "topic='Deliberation' side='Court' person='Unknown' summary='The court thanks the participants for their arguments and will take the matter under advisement, with a written decision to follow.'"
      ],
      "text/plain": [
       "<IPython.core.display.Markdown object>"
      ]
     },
     "metadata": {},
     "output_type": "display_data"
    }
   ],
   "source": [
    "for i in range(len(res_docs)):\n",
    "    for j in range(len(res_docs[i].arguments)):\n",
    "        display(Markdown(f\"{res_docs[i].arguments[j]}\"))"
   ]
  },
  {
   "cell_type": "code",
   "execution_count": 153,
   "metadata": {},
   "outputs": [],
   "source": [
    "from langchain.chat_models import ChatOpenAI\n",
    "from langchain.prompts import ChatPromptTemplate\n",
    "from langchain.schema import StrOutputParser\n",
    "from langchain.schema.runnable import RunnablePassthrough\n",
    "from langchain.embeddings import OpenAIEmbeddings\n",
    "from langchain.vectorstores import Chroma\n",
    "\n",
    "embeddings = OpenAIEmbeddings()\n",
    "db = Chroma.from_documents(docs, embeddings)\n",
    "\n",
    "retriever = db.as_retriever()\n",
    "\n",
    "template = \"\"\"Answer the question based only on the following context:\n",
    "\n",
    "{context}\n",
    "\n",
    "Question: {question}\n",
    "\"\"\"\n",
    "prompt = ChatPromptTemplate.from_template(template)\n",
    "model = ChatOpenAI(model=\"gpt-4-1106-preview\", temperature=0)\n",
    "\n",
    "\n",
    "def format_docs(docs):\n",
    "    return \"\\n\\n\".join([d.page_content for d in docs])\n",
    "\n",
    "\n",
    "chain = (\n",
    "    {\"context\": retriever | format_docs, \"question\": RunnablePassthrough()}\n",
    "    | prompt\n",
    "    | model\n",
    "    | StrOutputParser()\n",
    ")"
   ]
  },
  {
   "cell_type": "code",
   "execution_count": 154,
   "metadata": {},
   "outputs": [],
   "source": [
    "result = chain.invoke(\"Generate a well strucured list of legal arguments.\")"
   ]
  },
  {
   "cell_type": "code",
   "execution_count": 155,
   "metadata": {},
   "outputs": [
    {
     "data": {
      "text/markdown": [
       "Based on the provided context, here is a structured list of legal arguments that were likely presented in the case:\n",
       "\n",
       "1. Waiver Argument:\n",
       "   - The insurance company argues that they are not obligated to repeatedly set out the suit limitation provision in every reservation of rights letter or communication with the insured.\n",
       "   - They cite the Foam Craft case from Illinois, which states that the insured cannot blame the insurance company for failing to read the policy and discover the requirements for bringing suit.\n",
       "   - The insurance company points out that there is no Illinois law or regulation, other than section 919.80 of the Illinois Administrative Code, that requires them to specify the suit limitation provision when denying coverage.\n",
       "\n",
       "2. Estoppel Argument:\n",
       "   - The insurance company refutes the claim that their conduct during the investigation and request for additional documents should estop them from enforcing the suit limitation provision.\n",
       "   - They clarify that during the investigation in September, they were still unaware of when the suit limitation had expired.\n",
       "\n",
       "3. Reasonableness and Policy Language:\n",
       "   - The opposing party argues that the considerations should focus on the policy language drafted by the insurers and the reasonableness of the insured's actions.\n",
       "   - They reference out-of-state cases (Panorama and Strauss) that interpreted similar policy language and found that the statute of limitations did not begin to run until the conclusion of the loss.\n",
       "   - They emphasize that these cases were decided before the insurance policies in question were written, suggesting that the insurers should have been aware of these interpretations.\n",
       "\n",
       "4. Continuous Loss Argument:\n",
       "   - The opposing party argues that the specific dates of loss listed in the complaint were only examples and that water intrusion damage is a continuous process that may not immediately lead to damage.\n",
       "   - They suggest that the insurance policy should cover the ongoing damage until the loss concludes.\n",
       "\n",
       "5. Policy Interpretation and Construction:\n",
       "   - The insurance company argues that the insurance policy must be construed as a whole, giving effect to every provision, citing Supreme Court cases LaVore and Central Illinois Light.\n",
       "   - They claim that the interpretation urged by the opposing party is unreasonable and would lead to absurd results, allowing the insured to delay notification indefinitely.\n",
       "\n",
       "6. LaVore C Factors for Reasonable Notice:\n",
       "   - The insurance company argues that the 41-month delay in notification is unreasonable.\n",
       "   - They point to the insured's sophistication in commerce and insurance, as evidenced by their hiring of an insurance coverage attorney.\n",
       "   - They assert that the insured was aware of the event triggering coverage due to visible remediation efforts.\n",
       "   - They challenge the opposing party's \"actionable occurrence\" test for diligence as unsupported by Illinois law or policy language, referencing the Breckenridge case.\n",
       "\n",
       "These arguments reflect the legal positions taken by the parties in the case as inferred from the provided context."
      ],
      "text/plain": [
       "<IPython.core.display.Markdown object>"
      ]
     },
     "execution_count": 155,
     "metadata": {},
     "output_type": "execute_result"
    }
   ],
   "source": [
    "Markdown(f\"{result}\")"
   ]
  },
  {
   "cell_type": "code",
   "execution_count": null,
   "metadata": {},
   "outputs": [],
   "source": []
  }
 ],
 "metadata": {
  "kernelspec": {
   "display_name": ".venv",
   "language": "python",
   "name": "python3"
  },
  "language_info": {
   "codemirror_mode": {
    "name": "ipython",
    "version": 3
   },
   "file_extension": ".py",
   "mimetype": "text/x-python",
   "name": "python",
   "nbconvert_exporter": "python",
   "pygments_lexer": "ipython3",
   "version": "3.10.13"
  }
 },
 "nbformat": 4,
 "nbformat_minor": 2
}
